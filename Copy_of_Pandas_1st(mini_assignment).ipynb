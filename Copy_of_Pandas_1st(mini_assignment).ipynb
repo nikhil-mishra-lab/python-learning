{
  "cells": [
    {
      "cell_type": "markdown",
      "id": "aed467f0",
      "metadata": {
        "id": "aed467f0"
      },
      "source": [
        "# Pandas First Exercises\n",
        "Dear Students this notebook contains simple exercises for beginners to practice basic Pandas operations such as creating Series, DataFrames, saving files, and importing data."
      ]
    },
    {
      "cell_type": "markdown",
      "id": "99bfd544",
      "metadata": {
        "id": "99bfd544"
      },
      "source": [
        "### Exercise 1: Creating Pandas Series"
      ]
    },
    {
      "cell_type": "markdown",
      "id": "7b27040c",
      "metadata": {
        "id": "7b27040c"
      },
      "source": [
        "1. Create a Pandas Series containing the marks of 5 students in Maths.\n",
        "2. Create a Pandas Series that stores 5 city names.\n",
        "3. Create a Pandas Series with 5 different floating-point numbers representing temperature readings."
      ]
    },
    {
      "cell_type": "code",
      "source": [
        "import pandas as pd\n",
        "marks = pd.Series([85, 92, 78, 88, 95],\n",
        "                   index=['Student 1', 'Student 2', 'Student 3', 'Student 4', 'Student 5'],\n",
        "                   name='Maths Marks')\n",
        "\n",
        "print(\"Maths Marks:\")\n",
        "print(marks)\n",
        "print(\"\\n\" + \"=\"*50 + \"\\n\")\n",
        "\n",
        "cities = pd.Series(['New York', 'London', 'Tokyo', 'Paris', 'Sydney'],\n",
        "                    index=['City 1', 'City 2', 'City 3', 'City 4', 'City 5'],\n",
        "                    name='Cities')\n",
        "\n",
        "print(\"Cities:\")\n",
        "print(cities)\n",
        "print(\"\\n\" + \"=\"*50 + \"\\n\")\n",
        "\n",
        "temperatures = pd.Series([23.5, 18.2, 31.7, 15.9, 28.4],\n",
        "                         index=['Monday', 'Tuesday', 'Wednesday', 'Thursday', 'Friday'],\n",
        "                         name='Temperature (°C)')\n",
        "\n",
        "print(\"Temperature Readings:\")\n",
        "print(temperatures)\n",
        "print(\"\\n\" + \"=\"*50 + \"\\n\")\n",
        "\n",
        "print(\"Statistics for Maths Marks:\")\n",
        "print(f\"Mean: {marks.mean()}\")\n",
        "print(f\"Median: {marks.median()}\")\n",
        "print(f\"Std Dev: {marks.std()}\")\n",
        "\n",
        "print(\"\\n\\nStatistics for Temperature Readings:\")\n",
        "print(f\"Mean: {temperatures.mean():.2f}\")\n",
        "print(f\"Min: {temperatures.min()}\")\n",
        "print(f\"Max: {temperatures.max()}\")"
      ],
      "metadata": {
        "id": "OK7V5fd5kmrn",
        "outputId": "0af8d7b3-0d46-43a8-f8de-24c290e6295c",
        "colab": {
          "base_uri": "https://localhost:8080/"
        }
      },
      "id": "OK7V5fd5kmrn",
      "execution_count": null,
      "outputs": [
        {
          "output_type": "stream",
          "name": "stdout",
          "text": [
            "Maths Marks:\n",
            "Student 1    85\n",
            "Student 2    92\n",
            "Student 3    78\n",
            "Student 4    88\n",
            "Student 5    95\n",
            "Name: Maths Marks, dtype: int64\n",
            "\n",
            "==================================================\n",
            "\n",
            "Cities:\n",
            "City 1    New York\n",
            "City 2      London\n",
            "City 3       Tokyo\n",
            "City 4       Paris\n",
            "City 5      Sydney\n",
            "Name: Cities, dtype: object\n",
            "\n",
            "==================================================\n",
            "\n",
            "Temperature Readings:\n",
            "Monday       23.5\n",
            "Tuesday      18.2\n",
            "Wednesday    31.7\n",
            "Thursday     15.9\n",
            "Friday       28.4\n",
            "Name: Temperature (°C), dtype: float64\n",
            "\n",
            "==================================================\n",
            "\n",
            "Statistics for Maths Marks:\n",
            "Mean: 87.6\n",
            "Median: 88.0\n",
            "Std Dev: 6.580273550544841\n",
            "\n",
            "\n",
            "Statistics for Temperature Readings:\n",
            "Mean: 23.54\n",
            "Min: 15.9\n",
            "Max: 31.7\n"
          ]
        }
      ]
    },
    {
      "cell_type": "markdown",
      "id": "40f70f70",
      "metadata": {
        "id": "40f70f70"
      },
      "source": [
        "### Exercise 2: Creating DataFrames from Series"
      ]
    },
    {
      "cell_type": "markdown",
      "id": "dcbe763b",
      "metadata": {
        "id": "dcbe763b"
      },
      "source": [
        "1. Create two Series: one containing student names and another containing their ages. Combine them into a single DataFrame.\n",
        "2. Create three Series: 'Product Name', 'Price', and 'Quantity'. Combine them into one DataFrame and display it."
      ]
    },
    {
      "cell_type": "code",
      "source": [
        "import pandas as pd\n",
        "\n",
        "students = pd.Series(['Ravi', 'Sneha', 'Amit', 'Priya'], name='Student Name')\n",
        "\n",
        "ages = pd.Series([18, 19, 17, 18], name='Age')\n",
        "\n",
        "student_data = pd.DataFrame({'Student Name': students, 'Age': ages})\n",
        "\n",
        "print(\"Student DataFrame:\")\n",
        "print(student_data)\n",
        "\n",
        "product_name = pd.Series(['Pen', 'Notebook', 'Eraser', 'Pencil'], name='Product Name')\n",
        "price = pd.Series([10, 50, 5, 8], name='Price')\n",
        "quantity = pd.Series([100, 60, 150, 200], name='Quantity')\n",
        "\n",
        "product_data = pd.DataFrame({\n",
        "    'Product Name': product_name,\n",
        "    'Price': price,\n",
        "    'Quantity': quantity\n",
        "})\n",
        "print(\"\\nProduct DataFrame:\")\n",
        "print(product_data)\n",
        "\n"
      ],
      "metadata": {
        "id": "_E_7kzvVkp7e",
        "outputId": "f73fed85-54f6-47c6-9ca0-52772f8f44db",
        "colab": {
          "base_uri": "https://localhost:8080/"
        }
      },
      "id": "_E_7kzvVkp7e",
      "execution_count": null,
      "outputs": [
        {
          "output_type": "stream",
          "name": "stdout",
          "text": [
            "Student DataFrame:\n",
            "  Student Name  Age\n",
            "0         Ravi   18\n",
            "1        Sneha   19\n",
            "2         Amit   17\n",
            "3        Priya   18\n",
            "\n",
            "Product DataFrame:\n",
            "  Product Name  Price  Quantity\n",
            "0          Pen     10       100\n",
            "1     Notebook     50        60\n",
            "2       Eraser      5       150\n",
            "3       Pencil      8       200\n"
          ]
        }
      ]
    },
    {
      "cell_type": "markdown",
      "id": "13c74f3d",
      "metadata": {
        "id": "13c74f3d"
      },
      "source": [
        "### Exercise 3: Creating DataFrames from Dictionaries"
      ]
    },
    {
      "cell_type": "markdown",
      "id": "14cd2ed5",
      "metadata": {
        "id": "14cd2ed5"
      },
      "source": [
        "1. Create a dictionary with keys as 'Name', 'Age', and 'City', each containing a list of 3 values. Convert it into a DataFrame.\n",
        "2. Create a dictionary with keys 'Product', 'Category', and 'Price'. Convert it into a DataFrame and print it."
      ]
    },
    {
      "cell_type": "code",
      "source": [
        "import pandas as pd\n",
        "\n",
        "data1 = {\n",
        "    'Name': ['Ravi', 'Sneha', 'Amit'],\n",
        "    'Age': [18, 19, 20],\n",
        "    'City': ['Delhi', 'Mumbai', 'Kolkata']\n",
        "}\n",
        "\n",
        "df1 = pd.DataFrame(data1)\n",
        "\n",
        "print(\"DataFrame 1: Students Information\")\n",
        "print(df1)\n",
        "\n",
        "\n",
        "print(\"\\n\" + \"=\"*50 + \"\\n\")\n",
        "data2 = {\n",
        "    'Product': ['Pen', 'Notebook', 'Eraser'],\n",
        "    'Category': ['Stationery', 'Stationery', 'Stationery'],\n",
        "    'Price': [10, 50, 5]\n",
        "}\n",
        "df2 = pd.DataFrame(data2)\n",
        "\n",
        "print(\"DataFrame 2: Product Information\")\n",
        "print(df2)\n"
      ],
      "metadata": {
        "id": "JLxq4HlGkqig",
        "outputId": "8ee74d34-5711-408c-cdd9-9662fc0ee464",
        "colab": {
          "base_uri": "https://localhost:8080/"
        }
      },
      "id": "JLxq4HlGkqig",
      "execution_count": null,
      "outputs": [
        {
          "output_type": "stream",
          "name": "stdout",
          "text": [
            "DataFrame 1: Students Information\n",
            "    Name  Age     City\n",
            "0   Ravi   18    Delhi\n",
            "1  Sneha   19   Mumbai\n",
            "2   Amit   20  Kolkata\n",
            "\n",
            "==================================================\n",
            "\n",
            "DataFrame 2: Product Information\n",
            "    Product    Category  Price\n",
            "0       Pen  Stationery     10\n",
            "1  Notebook  Stationery     50\n",
            "2    Eraser  Stationery      5\n"
          ]
        }
      ]
    },
    {
      "cell_type": "markdown",
      "id": "76437b78",
      "metadata": {
        "id": "76437b78"
      },
      "source": [
        "### Exercise 4: Saving DataFrames to CSV and Excel"
      ]
    },
    {
      "cell_type": "markdown",
      "id": "a7b957b3",
      "metadata": {
        "id": "a7b957b3"
      },
      "source": [
        "1. Save any one of your created DataFrames into a CSV file named 'students.csv'.\n",
        "2. Save another DataFrame into an Excel file named 'products.xlsx'."
      ]
    },
    {
      "cell_type": "code",
      "source": [
        "import pandas as pd\n",
        "\n",
        "data1 = {\n",
        "    'Name': ['Ravi', 'Sneha', 'Amit'],\n",
        "    'Age': [18, 19, 20],\n",
        "    'City': ['Delhi', 'Mumbai', 'Kolkata']\n",
        "}\n",
        "\n",
        "df1 = pd.DataFrame(data1)\n",
        "\n",
        "print(\"DataFrame 1: Students Information\")\n",
        "print(df1)\n",
        "\n",
        "data2 = {\n",
        "    'Product': ['Pen', 'Notebook', 'Eraser'],\n",
        "    'Category': ['Stationery', 'Stationery', 'Stationery'],\n",
        "    'Price': [10, 50, 5]\n",
        "}\n",
        "\n",
        "df2 = pd.DataFrame(data2)\n",
        "\n",
        "print(\"\\nDataFrame 2: Product Information\")\n",
        "print(df2)\n",
        "\n"
      ],
      "metadata": {
        "id": "1ewTIFMykrER",
        "outputId": "29cd3d1a-7b92-4afa-cd15-540af7aa5970",
        "colab": {
          "base_uri": "https://localhost:8080/"
        }
      },
      "id": "1ewTIFMykrER",
      "execution_count": null,
      "outputs": [
        {
          "output_type": "stream",
          "name": "stdout",
          "text": [
            "DataFrame 1: Students Information\n",
            "    Name  Age     City\n",
            "0   Ravi   18    Delhi\n",
            "1  Sneha   19   Mumbai\n",
            "2   Amit   20  Kolkata\n",
            "\n",
            "DataFrame 2: Product Information\n",
            "    Product    Category  Price\n",
            "0       Pen  Stationery     10\n",
            "1  Notebook  Stationery     50\n",
            "2    Eraser  Stationery      5\n"
          ]
        }
      ]
    },
    {
      "cell_type": "markdown",
      "id": "003c619d",
      "metadata": {
        "id": "003c619d"
      },
      "source": [
        "### Exercise 5: Reading Data from Files"
      ]
    },
    {
      "cell_type": "markdown",
      "id": "acbd6ed2",
      "metadata": {
        "id": "acbd6ed2"
      },
      "source": [
        "1. Use Pandas to read the CSV file 'students.csv' that you created earlier.\n",
        "2. Use Pandas to read the Excel file 'products.xlsx' that you created earlier."
      ]
    },
    {
      "cell_type": "code",
      "source": [
        "import pandas as pd\n",
        "print(\"Creating students.csv file...\")\n",
        "students_data = {\n",
        "    'Student_ID': [101, 102, 103, 104, 105],\n",
        "    'Name': ['Rahul', 'Priya', 'Amit', 'Sneha', 'Vikram'],\n",
        "    'Age': [20, 19, 21, 20, 22],\n",
        "    'Marks': [85, 92, 78, 88, 95],\n",
        "    'Grade': ['B', 'A', 'C', 'B', 'A']\n",
        "}\n",
        "df_students = pd.DataFrame(students_data)\n",
        "df_students.to_csv('students.csv', index=False)\n",
        "print(\"✓ students.csv created successfully!\\n\")\n",
        "\n",
        "print(\"Creating products.xlsx file...\")\n",
        "products_data = {\n",
        "    'Product_ID': [1, 2, 3, 4, 5],\n",
        "    'Product_Name': ['Laptop', 'Mouse', 'Keyboard', 'Monitor', 'Headphones'],\n",
        "    'Price': [45000.00, 500.00, 1500.00, 12000.00, 2500.00],\n",
        "    'Stock': [25, 150, 80, 40, 100],\n",
        "    'Category': ['Electronics', 'Accessories', 'Accessories', 'Electronics', 'Accessories']\n",
        "}\n",
        "df_products = pd.DataFrame(products_data)\n",
        "df_products.to_excel('products.xlsx', index=False, engine='openpyxl')\n",
        "print(\"✓ products.xlsx created successfully!\\n\")\n",
        "\n",
        "print(\"=\"*60)\n",
        "print(\"\\n📖 READING THE FILES\\n\")\n",
        "print(\"=\"*60)\n",
        "\n",
        "\n",
        "print(\"\\n1. Reading 'students.csv':\")\n",
        "print(\"-\" * 60)\n",
        "df_csv = pd.read_csv('students.csv')\n",
        "print(df_csv)\n",
        "print(f\"\\nShape: {df_csv.shape}\")\n",
        "print(f\"Columns: {list(df_csv.columns)}\")\n",
        "\n",
        "print(\"\\n\\n2. Reading 'products.xlsx':\")\n",
        "print(\"-\" * 60)\n",
        "df_excel = pd.read_excel('products.xlsx', engine='openpyxl')\n",
        "print(df_excel)\n",
        "print(f\"\\nShape: {df_excel.shape}\")\n",
        "print(f\"Columns: {list(df_excel.columns)}\")\n",
        "\n",
        "print(\"\\n\" + \"=\"*60)\n",
        "print(\"📊 ADDITIONAL INFORMATION\")\n",
        "print(\"=\"*60)\n",
        "\n",
        "print(\"\\nStudents Data Info:\")\n",
        "print(df_csv.info())\n",
        "\n",
        "print(\"\\n\\nProducts Data Statistics:\")\n",
        "print(df_excel.describe())\n",
        "\n",
        "print(\"\\n\\n✅ Both files read successfully!\")\n"
      ],
      "metadata": {
        "id": "4abENRlTkrsx",
        "outputId": "6c62d761-04df-4f2d-c9d5-d5f36bd5ca8b",
        "colab": {
          "base_uri": "https://localhost:8080/"
        }
      },
      "id": "4abENRlTkrsx",
      "execution_count": null,
      "outputs": [
        {
          "output_type": "stream",
          "name": "stdout",
          "text": [
            "Creating students.csv file...\n",
            "✓ students.csv created successfully!\n",
            "\n",
            "Creating products.xlsx file...\n",
            "✓ products.xlsx created successfully!\n",
            "\n",
            "============================================================\n",
            "\n",
            "📖 READING THE FILES\n",
            "\n",
            "============================================================\n",
            "\n",
            "1. Reading 'students.csv':\n",
            "------------------------------------------------------------\n",
            "   Student_ID    Name  Age  Marks Grade\n",
            "0         101   Rahul   20     85     B\n",
            "1         102   Priya   19     92     A\n",
            "2         103    Amit   21     78     C\n",
            "3         104   Sneha   20     88     B\n",
            "4         105  Vikram   22     95     A\n",
            "\n",
            "Shape: (5, 5)\n",
            "Columns: ['Student_ID', 'Name', 'Age', 'Marks', 'Grade']\n",
            "\n",
            "\n",
            "2. Reading 'products.xlsx':\n",
            "------------------------------------------------------------\n",
            "   Product_ID Product_Name  Price  Stock     Category\n",
            "0           1       Laptop  45000     25  Electronics\n",
            "1           2        Mouse    500    150  Accessories\n",
            "2           3     Keyboard   1500     80  Accessories\n",
            "3           4      Monitor  12000     40  Electronics\n",
            "4           5   Headphones   2500    100  Accessories\n",
            "\n",
            "Shape: (5, 5)\n",
            "Columns: ['Product_ID', 'Product_Name', 'Price', 'Stock', 'Category']\n",
            "\n",
            "============================================================\n",
            "📊 ADDITIONAL INFORMATION\n",
            "============================================================\n",
            "\n",
            "Students Data Info:\n",
            "<class 'pandas.core.frame.DataFrame'>\n",
            "RangeIndex: 5 entries, 0 to 4\n",
            "Data columns (total 5 columns):\n",
            " #   Column      Non-Null Count  Dtype \n",
            "---  ------      --------------  ----- \n",
            " 0   Student_ID  5 non-null      int64 \n",
            " 1   Name        5 non-null      object\n",
            " 2   Age         5 non-null      int64 \n",
            " 3   Marks       5 non-null      int64 \n",
            " 4   Grade       5 non-null      object\n",
            "dtypes: int64(3), object(2)\n",
            "memory usage: 332.0+ bytes\n",
            "None\n",
            "\n",
            "\n",
            "Products Data Statistics:\n",
            "       Product_ID         Price       Stock\n",
            "count    5.000000      5.000000    5.000000\n",
            "mean     3.000000  12300.000000   79.000000\n",
            "std      1.581139  18850.066313   49.799598\n",
            "min      1.000000    500.000000   25.000000\n",
            "25%      2.000000   1500.000000   40.000000\n",
            "50%      3.000000   2500.000000   80.000000\n",
            "75%      4.000000  12000.000000  100.000000\n",
            "max      5.000000  45000.000000  150.000000\n",
            "\n",
            "\n",
            "✅ Both files read successfully!\n"
          ]
        }
      ]
    }
  ],
  "metadata": {
    "colab": {
      "provenance": []
    },
    "language_info": {
      "name": "python"
    },
    "kernelspec": {
      "name": "python3",
      "display_name": "Python 3"
    }
  },
  "nbformat": 4,
  "nbformat_minor": 5
}