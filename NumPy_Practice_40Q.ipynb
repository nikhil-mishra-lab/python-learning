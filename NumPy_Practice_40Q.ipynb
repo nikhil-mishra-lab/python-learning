{
  "cells": [
    {
      "cell_type": "markdown",
      "id": "e0c490a6",
      "metadata": {
        "id": "e0c490a6"
      },
      "source": [
        "# NumPy Practice Questions\n",
        "\n",
        "**Instructions:** Dear Students Each question is self‑explanatory. Read the markdown prompt and write the code in the cell below it where marked `# answer here`. Keep solutions simple and focused on the asked concept.\n",
        "\n",
        "- Q1–Q30: Single-topic questions in sequence (basics → indexing → operations → aggregations → reshaping/broadcasting → utilities).\n",
        "\n",
        "- Q31–Q35: Multi‑concept (combine 2–3 ideas you practiced).\n",
        "\n",
        "- Q36–Q40: Use a single dataset loaded via **pandas** and perform **NumPy** operations on it. The file `students_scores.csv` is already available in the same folder as this notebook.\n"
      ]
    },
    {
      "cell_type": "markdown",
      "id": "c491a91a",
      "metadata": {
        "id": "c491a91a"
      },
      "source": [
        "### Q1. Create a 1D NumPy array from the Python list `[1, 2, 3, 4, 5]` and print its type and contents."
      ]
    },
    {
      "cell_type": "code",
      "execution_count": 7,
      "id": "11798359",
      "metadata": {
        "id": "11798359",
        "outputId": "92451909-5efc-4811-b6d5-655ff40d561f",
        "colab": {
          "base_uri": "https://localhost:8080/"
        }
      },
      "outputs": [
        {
          "output_type": "stream",
          "name": "stdout",
          "text": [
            "<class 'numpy.ndarray'>\n",
            "[1 2 3 4 5]\n",
            "int64\n"
          ]
        }
      ],
      "source": [
        "import numpy\n",
        "arr=numpy.array([1,2,3,4,5])\n",
        "print(type(arr))\n",
        "print(arr)\n",
        "print(arr.dtype)"
      ]
    },
    {
      "cell_type": "markdown",
      "id": "c14573d0",
      "metadata": {
        "id": "c14573d0"
      },
      "source": [
        "### Q2. Create a 2D NumPy array from `[[1, 2, 3], [4, 5, 6]]` and print its `shape` and `ndim`."
      ]
    },
    {
      "cell_type": "code",
      "execution_count": 4,
      "id": "d8632ac0",
      "metadata": {
        "id": "d8632ac0",
        "outputId": "58c28d82-4abe-4608-fb8e-315921c594b2",
        "colab": {
          "base_uri": "https://localhost:8080/"
        }
      },
      "outputs": [
        {
          "output_type": "stream",
          "name": "stdout",
          "text": [
            "(2, 3)\n",
            "2\n"
          ]
        }
      ],
      "source": [
        "import numpy as np\n",
        "arr=numpy.array([[1,2,3],[4,5,6]])\n",
        "print(arr.shape)\n",
        "print(arr.ndim)"
      ]
    },
    {
      "cell_type": "markdown",
      "id": "41a541aa",
      "metadata": {
        "id": "41a541aa"
      },
      "source": [
        "### Q3. Create an array of 6 zeros and print it."
      ]
    },
    {
      "cell_type": "code",
      "execution_count": 8,
      "id": "d9ed7f27",
      "metadata": {
        "id": "d9ed7f27",
        "outputId": "550663e2-b882-4372-e777-21ff55cc8754",
        "colab": {
          "base_uri": "https://localhost:8080/"
        }
      },
      "outputs": [
        {
          "output_type": "stream",
          "name": "stdout",
          "text": [
            "[0. 0. 0. 0. 0. 0.]\n"
          ]
        }
      ],
      "source": [
        "import numpy\n",
        "arr=numpy.zeros(6)\n",
        "print(arr)"
      ]
    },
    {
      "cell_type": "markdown",
      "id": "320659f5",
      "metadata": {
        "id": "320659f5"
      },
      "source": [
        "### Q4. Create an array of 5 ones (float) and print it."
      ]
    },
    {
      "cell_type": "code",
      "execution_count": 9,
      "id": "06f42856",
      "metadata": {
        "id": "06f42856",
        "outputId": "bb2026d9-7db2-429d-f45b-179b55a89c17",
        "colab": {
          "base_uri": "https://localhost:8080/"
        }
      },
      "outputs": [
        {
          "output_type": "stream",
          "name": "stdout",
          "text": [
            "[1. 1. 1. 1. 1.]\n"
          ]
        }
      ],
      "source": [
        "import numpy\n",
        "arr=numpy.ones(5)\n",
        "print(arr)"
      ]
    },
    {
      "cell_type": "markdown",
      "id": "f94a555e",
      "metadata": {
        "id": "f94a555e"
      },
      "source": [
        "### Q5. Use `np.arange` to create an array from 2 to 14 (inclusive of 2, exclusive of 14) with a step of 2 and print it."
      ]
    },
    {
      "cell_type": "code",
      "execution_count": 11,
      "id": "a593196e",
      "metadata": {
        "id": "a593196e",
        "outputId": "83a98d5e-b1f7-41af-9b8a-fc768f6bc226",
        "colab": {
          "base_uri": "https://localhost:8080/"
        }
      },
      "outputs": [
        {
          "output_type": "stream",
          "name": "stdout",
          "text": [
            "[ 2  4  6  8 10 12]\n"
          ]
        }
      ],
      "source": [
        "import numpy\n",
        "arr=numpy.arange(2,14,2)\n",
        "print(arr)"
      ]
    },
    {
      "cell_type": "markdown",
      "id": "0f258cce",
      "metadata": {
        "id": "0f258cce"
      },
      "source": [
        "### Q6. Use `np.linspace` to create 5 evenly spaced values from 0 to 1 and print them."
      ]
    },
    {
      "cell_type": "code",
      "execution_count": 12,
      "id": "2f2a4b42",
      "metadata": {
        "id": "2f2a4b42",
        "outputId": "2f213dd7-1373-4b7e-9624-50b3f865b6b3",
        "colab": {
          "base_uri": "https://localhost:8080/"
        }
      },
      "outputs": [
        {
          "output_type": "stream",
          "name": "stdout",
          "text": [
            "[0.   0.25 0.5  0.75 1.  ]\n"
          ]
        }
      ],
      "source": [
        "import numpy\n",
        "arr=numpy.linspace(0,1,5)\n",
        "print(arr)"
      ]
    },
    {
      "cell_type": "markdown",
      "id": "e7e03828",
      "metadata": {
        "id": "e7e03828"
      },
      "source": [
        "### Q7. Create an integer array `[10, 20, 30]` then convert it to `float` dtype and print both arrays."
      ]
    },
    {
      "cell_type": "code",
      "execution_count": 14,
      "id": "8c01f250",
      "metadata": {
        "id": "8c01f250",
        "outputId": "25823030-4171-47dc-ba08-41ce6f459854",
        "colab": {
          "base_uri": "https://localhost:8080/"
        }
      },
      "outputs": [
        {
          "output_type": "stream",
          "name": "stdout",
          "text": [
            "[10 20 30]\n",
            "[10. 20. 30.]\n"
          ]
        }
      ],
      "source": [
        "import numpy\n",
        "arr=numpy.array([10,20,30])\n",
        "print(arr)\n",
        "arr=arr.astype(float)\n",
        "print(arr)\n"
      ]
    },
    {
      "cell_type": "markdown",
      "id": "fae8af1e",
      "metadata": {
        "id": "fae8af1e"
      },
      "source": [
        "### Q8. Create an array of 12 numbers from 0 to 11 and reshape it to `3x4`; print the reshaped array."
      ]
    },
    {
      "cell_type": "code",
      "execution_count": 15,
      "id": "376b9fe9",
      "metadata": {
        "id": "376b9fe9",
        "outputId": "59c90471-d631-4995-8193-6464a71d4743",
        "colab": {
          "base_uri": "https://localhost:8080/"
        }
      },
      "outputs": [
        {
          "output_type": "stream",
          "name": "stdout",
          "text": [
            "[[ 0  1  2  3]\n",
            " [ 4  5  6  7]\n",
            " [ 8  9 10 11]]\n"
          ]
        }
      ],
      "source": [
        "import numpy\n",
        "arr=numpy.arange(12).reshape(3,4)\n",
        "print(arr)"
      ]
    },
    {
      "cell_type": "markdown",
      "id": "f244c522",
      "metadata": {
        "id": "f244c522"
      },
      "source": [
        "### Q9. For the array `a = np.array([[1,2,3],[4,5,6]])`, print `a.shape`, `a.ndim`, and `a.size`."
      ]
    },
    {
      "cell_type": "code",
      "execution_count": null,
      "id": "d7ce800a",
      "metadata": {
        "id": "d7ce800a"
      },
      "outputs": [],
      "source": [
        "import numpy\n",
        "a=numpy.array([[1,2,3],[4,5,6]])\n",
        "print(a.shape)\n",
        "print(a.ndim)\n",
        "print(a.size)"
      ]
    },
    {
      "cell_type": "markdown",
      "id": "83ba66c2",
      "metadata": {
        "id": "83ba66c2"
      },
      "source": [
        "### Q10. For the array `a = np.array([1,2,3], dtype=np.int32)`, print `a.dtype` and `a.itemsize`."
      ]
    },
    {
      "cell_type": "code",
      "execution_count": 16,
      "id": "c85a1d4c",
      "metadata": {
        "id": "c85a1d4c",
        "outputId": "bf0fef8f-d085-47a0-960a-b470dca04d86",
        "colab": {
          "base_uri": "https://localhost:8080/"
        }
      },
      "outputs": [
        {
          "output_type": "stream",
          "name": "stdout",
          "text": [
            "int32\n"
          ]
        }
      ],
      "source": [
        "import numpy\n",
        "a=numpy.array([1,2,3],dtype=np.int32)\n",
        "print(a.dtype)"
      ]
    },
    {
      "cell_type": "markdown",
      "id": "01aa0bea",
      "metadata": {
        "id": "01aa0bea"
      },
      "source": [
        "### Q11. Given `arr = np.array([10, 20, 30, 40, 50])`, print the first element, last element, and the element at index 2."
      ]
    },
    {
      "cell_type": "code",
      "execution_count": 17,
      "id": "1d0d13f5",
      "metadata": {
        "id": "1d0d13f5",
        "outputId": "f1038d6d-7486-43ac-9300-7c9cc8236e17",
        "colab": {
          "base_uri": "https://localhost:8080/"
        }
      },
      "outputs": [
        {
          "output_type": "stream",
          "name": "stdout",
          "text": [
            "10\n",
            "50\n",
            "30\n"
          ]
        }
      ],
      "source": [
        "import numpy\n",
        "arr=numpy.array([10,20,30,40,50])\n",
        "print(arr[0])\n",
        "print(arr[-1])\n",
        "print(arr[2])"
      ]
    },
    {
      "cell_type": "markdown",
      "id": "d6fc26ea",
      "metadata": {
        "id": "d6fc26ea"
      },
      "source": [
        "### Q12. Given `arr = np.array([5, 10, 15, 20, 25])`, use negative indexing to print the last two elements."
      ]
    },
    {
      "cell_type": "code",
      "execution_count": 18,
      "id": "8f719239",
      "metadata": {
        "id": "8f719239",
        "outputId": "8df457ec-4c26-4ce5-e013-975f2cffc53e",
        "colab": {
          "base_uri": "https://localhost:8080/"
        }
      },
      "outputs": [
        {
          "output_type": "stream",
          "name": "stdout",
          "text": [
            "[20 25]\n"
          ]
        }
      ],
      "source": [
        "import numpy\n",
        "arr=numpy.array([5,10,15,20,25])\n",
        "print(arr[-2:])"
      ]
    },
    {
      "cell_type": "markdown",
      "id": "7f6e0d20",
      "metadata": {
        "id": "7f6e0d20"
      },
      "source": [
        "### Q13. Given `arr = np.array([0,1,2,3,4,5,6,7,8,9])`, print the slice from index 2 to 7 (exclusive)."
      ]
    },
    {
      "cell_type": "code",
      "execution_count": 19,
      "id": "1f7780b7",
      "metadata": {
        "id": "1f7780b7",
        "outputId": "12f540c0-91e9-4030-da31-9cfaf3554e1e",
        "colab": {
          "base_uri": "https://localhost:8080/"
        }
      },
      "outputs": [
        {
          "output_type": "stream",
          "name": "stdout",
          "text": [
            "[2 3 4 5 6]\n"
          ]
        }
      ],
      "source": [
        "import numpy\n",
        "arr=numpy.array([0,1,2,3,4,5,6,7,8,9])\n",
        "print(arr[2:7])"
      ]
    },
    {
      "cell_type": "markdown",
      "id": "842faad2",
      "metadata": {
        "id": "842faad2"
      },
      "source": [
        "### Q14. Given `m = np.arange(1,13).reshape(3,4)`, print the second row and the third column (as 1D slices)."
      ]
    },
    {
      "cell_type": "code",
      "execution_count": 20,
      "id": "f00c9967",
      "metadata": {
        "id": "f00c9967",
        "outputId": "188407af-bd77-4533-bb98-f727348eb0da",
        "colab": {
          "base_uri": "https://localhost:8080/"
        }
      },
      "outputs": [
        {
          "output_type": "stream",
          "name": "stdout",
          "text": [
            "[[ 1  2  3  4]\n",
            " [ 5  6  7  8]\n",
            " [ 9 10 11 12]]\n"
          ]
        }
      ],
      "source": [
        "import numpy\n",
        "m=numpy.arange(1,13).reshape(3,4)\n",
        "print(m)"
      ]
    },
    {
      "cell_type": "markdown",
      "id": "8178992e",
      "metadata": {
        "id": "8178992e"
      },
      "source": [
        "### Q15. Given `m = np.arange(1,13).reshape(3,4)`, print the submatrix containing rows 0 to 1 and columns 1 to 3."
      ]
    },
    {
      "cell_type": "code",
      "execution_count": 21,
      "id": "2153637b",
      "metadata": {
        "id": "2153637b",
        "outputId": "f403d233-9601-4d38-9dde-4c2b31395150",
        "colab": {
          "base_uri": "https://localhost:8080/"
        }
      },
      "outputs": [
        {
          "output_type": "stream",
          "name": "stdout",
          "text": [
            "[[ 1  2  3  4]\n",
            " [ 5  6  7  8]\n",
            " [ 9 10 11 12]]\n"
          ]
        }
      ],
      "source": [
        "import numpy\n",
        "m=numpy.arange(1,13).reshape(3,4)\n",
        "print(m)"
      ]
    },
    {
      "cell_type": "markdown",
      "id": "4e9c429c",
      "metadata": {
        "id": "4e9c429c"
      },
      "source": [
        "### Q16. Given `arr = np.arange(1,11)`, create a boolean mask for even numbers and print the even elements."
      ]
    },
    {
      "cell_type": "code",
      "execution_count": null,
      "id": "2231b742",
      "metadata": {
        "id": "2231b742"
      },
      "outputs": [],
      "source": [
        "import numpy\n",
        "arr=numpy.arange(1,11)\n",
        "print(arr)"
      ]
    },
    {
      "cell_type": "markdown",
      "id": "3002e5e5",
      "metadata": {
        "id": "3002e5e5"
      },
      "source": [
        "### Q17. Given `arr = np.arange(1,11)`, set all odd elements to `-1` (modify in place) and print the result."
      ]
    },
    {
      "cell_type": "code",
      "execution_count": null,
      "id": "721b3e57",
      "metadata": {
        "id": "721b3e57"
      },
      "outputs": [],
      "source": [
        "import numpy\n",
        "arr=numpy.arange(1,11)\n",
        "print(arr)"
      ]
    },
    {
      "cell_type": "markdown",
      "id": "716f20ec",
      "metadata": {
        "id": "716f20ec"
      },
      "source": [
        "### Q18. Given `arr = np.array([1,2,3])`, add `5` to every element and print the result (element‑wise)."
      ]
    },
    {
      "cell_type": "code",
      "execution_count": null,
      "id": "aa334afb",
      "metadata": {
        "id": "aa334afb"
      },
      "outputs": [],
      "source": [
        "import numpy\n",
        "arr=numpy.array([1,2,3])\n",
        "print(arr+5)"
      ]
    },
    {
      "cell_type": "markdown",
      "id": "853ec1d9",
      "metadata": {
        "id": "853ec1d9"
      },
      "source": [
        "### Q19. Given `a = np.array([1,2,3])` and `b = np.array([4,5,6])`, print `a + b` and `a * b` (element‑wise)."
      ]
    },
    {
      "cell_type": "code",
      "execution_count": 25,
      "id": "ad32b2d3",
      "metadata": {
        "id": "ad32b2d3",
        "outputId": "72a75c21-4a2f-47c8-de81-589307c455b4",
        "colab": {
          "base_uri": "https://localhost:8080/"
        }
      },
      "outputs": [
        {
          "output_type": "stream",
          "name": "stdout",
          "text": [
            "[5 7 9]\n",
            "[ 4 10 18]\n"
          ]
        }
      ],
      "source": [
        "import numpy\n",
        "a=numpy.array([1,2,3])\n",
        "b=numpy.array([4,5,6])\n",
        "print(a+b)\n",
        "print(a*b)"
      ]
    },
    {
      "cell_type": "markdown",
      "id": "23006681",
      "metadata": {
        "id": "23006681"
      },
      "source": [
        "### Q20. Given `a = np.array([1,2,3])` and `b = np.array([[10],[20],[30]])`, use broadcasting to compute `a + b` and print it."
      ]
    },
    {
      "cell_type": "code",
      "execution_count": 26,
      "id": "9110485b",
      "metadata": {
        "id": "9110485b",
        "outputId": "abddcbf6-f26d-4160-b9e9-36c4c3a07a2e",
        "colab": {
          "base_uri": "https://localhost:8080/"
        }
      },
      "outputs": [
        {
          "output_type": "stream",
          "name": "stdout",
          "text": [
            "[[11 12 13]\n",
            " [21 22 23]\n",
            " [31 32 33]]\n"
          ]
        }
      ],
      "source": [
        "import numpy\n",
        "a=numpy.array([1,2,3])\n",
        "b=numpy.array([[10],[20],[30]])\n",
        "print(a+b)"
      ]
    },
    {
      "cell_type": "markdown",
      "id": "1a19a3fe",
      "metadata": {
        "id": "1a19a3fe"
      },
      "source": [
        "### Q21. Given `arr = np.array([3, 7, 2, 9, 5])`, print its `sum`, `mean`, `min`, and `max`."
      ]
    },
    {
      "cell_type": "code",
      "execution_count": 28,
      "id": "9959cad3",
      "metadata": {
        "id": "9959cad3",
        "outputId": "77ce5070-52a1-4a71-c1c1-3e30a27a3844",
        "colab": {
          "base_uri": "https://localhost:8080/"
        }
      },
      "outputs": [
        {
          "output_type": "stream",
          "name": "stdout",
          "text": [
            "26\n",
            "5.2\n",
            "2\n",
            "9\n"
          ]
        }
      ],
      "source": [
        "import numpy\n",
        "arr=numpy.array([3,7,2,9,5])\n",
        "print(arr.sum())\n",
        "print(arr.mean())\n",
        "print(arr.min())\n",
        "print(arr.max())"
      ]
    },
    {
      "cell_type": "markdown",
      "id": "99bd7b97",
      "metadata": {
        "id": "99bd7b97"
      },
      "source": [
        "### Q22. Given `m = np.arange(1,13).reshape(3,4)`, print the sum along axis 0 and along axis 1."
      ]
    },
    {
      "cell_type": "code",
      "execution_count": 29,
      "id": "445e24c1",
      "metadata": {
        "id": "445e24c1",
        "outputId": "860653fe-47dc-4f93-ade1-6386c71a07cf",
        "colab": {
          "base_uri": "https://localhost:8080/"
        }
      },
      "outputs": [
        {
          "output_type": "stream",
          "name": "stdout",
          "text": [
            "[[ 1  2  3  4]\n",
            " [ 5  6  7  8]\n",
            " [ 9 10 11 12]]\n"
          ]
        }
      ],
      "source": [
        "import numpy\n",
        "m=numpy.arange(1,13).reshape(3,4)\n",
        "print(m)\n"
      ]
    },
    {
      "cell_type": "markdown",
      "id": "4d17e8e4",
      "metadata": {
        "id": "4d17e8e4"
      },
      "source": [
        "### Q23. Given `arr = np.array([10, 20, 5, 40, 25])`, print the indices of the `max` and `min` elements using `np.argmax` and `np.argmin`."
      ]
    },
    {
      "cell_type": "code",
      "execution_count": 31,
      "id": "6b21165b",
      "metadata": {
        "id": "6b21165b",
        "outputId": "e51e30e7-bf3b-4831-b38c-f4d8d4ceab65",
        "colab": {
          "base_uri": "https://localhost:8080/"
        }
      },
      "outputs": [
        {
          "output_type": "stream",
          "name": "stdout",
          "text": [
            "3\n",
            "2\n"
          ]
        }
      ],
      "source": [
        "import numpy\n",
        "arr=numpy.array([10,20,5,40,25])\n",
        "print(arr.argmax())\n",
        "print(arr.argmin())\n"
      ]
    },
    {
      "cell_type": "markdown",
      "id": "29775921",
      "metadata": {
        "id": "29775921"
      },
      "source": [
        "### Q24. Given `arr = np.array([3, 3, 1, 2, 2, 2, 5])`, print the sorted array and the unique values using `np.unique`."
      ]
    },
    {
      "cell_type": "code",
      "execution_count": 32,
      "id": "2edcba37",
      "metadata": {
        "id": "2edcba37",
        "outputId": "391d2444-8520-47cf-aceb-d13dded66953",
        "colab": {
          "base_uri": "https://localhost:8080/"
        }
      },
      "outputs": [
        {
          "output_type": "stream",
          "name": "stdout",
          "text": [
            "[1 2 2 2 3 3 5]\n"
          ]
        }
      ],
      "source": [
        "import numpy\n",
        "arr=numpy.array([3,3,1,2,2,2,5])\n",
        "print(np.sort(arr))"
      ]
    },
    {
      "cell_type": "markdown",
      "id": "5c67ab94",
      "metadata": {
        "id": "5c67ab94"
      },
      "source": [
        "### Q25. Given `arr = np.array([9, 1, 5, 3, 7])`, sort it in ascending order and print the result (do not modify original)."
      ]
    },
    {
      "cell_type": "code",
      "execution_count": 33,
      "id": "18cc696e",
      "metadata": {
        "id": "18cc696e",
        "outputId": "6367daf3-6817-4788-f8b5-9ee59afd318d",
        "colab": {
          "base_uri": "https://localhost:8080/"
        }
      },
      "outputs": [
        {
          "output_type": "stream",
          "name": "stdout",
          "text": [
            "[1 3 5 7 9]\n"
          ]
        }
      ],
      "source": [
        "import numpy\n",
        "arr=numpy.array([9,1,5,3,7])\n",
        "print(np.sort(arr))"
      ]
    },
    {
      "cell_type": "markdown",
      "id": "6212bb71",
      "metadata": {
        "id": "6212bb71"
      },
      "source": [
        "### Q26. Given `a = np.array([1,2,3])` and `b = np.array([4,5,6])`, horizontally concatenate them and print the result."
      ]
    },
    {
      "cell_type": "code",
      "execution_count": 34,
      "id": "e0aa0047",
      "metadata": {
        "id": "e0aa0047",
        "outputId": "733b7fb3-340b-4f03-92c4-ba5d5eb365f0",
        "colab": {
          "base_uri": "https://localhost:8080/"
        }
      },
      "outputs": [
        {
          "output_type": "stream",
          "name": "stdout",
          "text": [
            "[1 2 3 4 5 6]\n"
          ]
        }
      ],
      "source": [
        "import numpy\n",
        "a=numpy.array([1,2,3])\n",
        "b=numpy.array([4,5,6])\n",
        "print(np.hstack((a,b)))"
      ]
    },
    {
      "cell_type": "markdown",
      "id": "b6402fff",
      "metadata": {
        "id": "b6402fff"
      },
      "source": [
        "### Q27. Given `A = np.array([[1,2],[3,4]])` and `B = np.array([[5,6],[7,8]])`, stack them vertically and print the result."
      ]
    },
    {
      "cell_type": "code",
      "execution_count": 35,
      "id": "7c3a4371",
      "metadata": {
        "id": "7c3a4371",
        "outputId": "6c01e979-817e-4f33-d962-470cf9e85e3e",
        "colab": {
          "base_uri": "https://localhost:8080/"
        }
      },
      "outputs": [
        {
          "output_type": "stream",
          "name": "stdout",
          "text": [
            "[[1 2]\n",
            " [3 4]\n",
            " [5 6]\n",
            " [7 8]]\n"
          ]
        }
      ],
      "source": [
        "import numpy\n",
        "A=numpy.array([[1,2],[3,4]])\n",
        "B=numpy.array([[5,6],[7,8]])\n",
        "print(np.vstack((A,B)))\n"
      ]
    },
    {
      "cell_type": "markdown",
      "id": "02e5de10",
      "metadata": {
        "id": "02e5de10"
      },
      "source": [
        "### Q28. Given `arr = np.arange(1,13)`, split it into 3 equal parts and print each part."
      ]
    },
    {
      "cell_type": "code",
      "execution_count": 36,
      "id": "d12a4038",
      "metadata": {
        "id": "d12a4038",
        "outputId": "4d511fc0-3c04-49b0-e648-ea0021e49647",
        "colab": {
          "base_uri": "https://localhost:8080/"
        }
      },
      "outputs": [
        {
          "output_type": "stream",
          "name": "stdout",
          "text": [
            "[array([1, 2, 3, 4]), array([5, 6, 7, 8]), array([ 9, 10, 11, 12])]\n"
          ]
        }
      ],
      "source": [
        "import numpy\n",
        "arr=numpy.arange(1,13)\n",
        "print(np.split(arr,3))"
      ]
    },
    {
      "cell_type": "markdown",
      "id": "615e41c2",
      "metadata": {
        "id": "615e41c2"
      },
      "source": [
        "### Q29. Set a random seed (e.g., 42), generate 5 random integers from 0 to 9 using `np.random.randint`, and print them."
      ]
    },
    {
      "cell_type": "code",
      "execution_count": 37,
      "id": "b67e0170",
      "metadata": {
        "id": "b67e0170",
        "outputId": "e49ee59c-5c6b-4a78-8903-66c78025a7f1",
        "colab": {
          "base_uri": "https://localhost:8080/"
        }
      },
      "outputs": [
        {
          "output_type": "stream",
          "name": "stdout",
          "text": [
            "[6 3 7 4 6]\n"
          ]
        }
      ],
      "source": [
        "import numpy\n",
        "np.random.seed(42)\n",
        "print(np.random.randint(0,9,5))"
      ]
    },
    {
      "cell_type": "markdown",
      "id": "011c3a33",
      "metadata": {
        "id": "011c3a33"
      },
      "source": [
        "### Q30. Given `arr = np.array([-3, 1, -1, 4, -2, 5])`, use `np.where` to replace negative values with `0` and print the new array."
      ]
    },
    {
      "cell_type": "code",
      "execution_count": null,
      "id": "1e253753",
      "metadata": {
        "id": "1e253753"
      },
      "outputs": [],
      "source": [
        "import numpy\n",
        "arr=numpy.array([-3,1,-1,4,-2,5])\n",
        "print(np.where(arr<0,0,arr))"
      ]
    },
    {
      "cell_type": "markdown",
      "id": "a5364cd2",
      "metadata": {
        "id": "a5364cd2"
      },
      "source": [
        "### Q31. Create a 3D array of shape `(2, 3, 4)` using `np.arange` then compute the mean along axis 2 and print the result."
      ]
    },
    {
      "cell_type": "code",
      "execution_count": 38,
      "id": "42052fbd",
      "metadata": {
        "id": "42052fbd",
        "outputId": "fb974578-b6c3-4869-a3ca-16e1fa84682e",
        "colab": {
          "base_uri": "https://localhost:8080/"
        }
      },
      "outputs": [
        {
          "output_type": "stream",
          "name": "stdout",
          "text": [
            "[[[ 0  1  2  3]\n",
            "  [ 4  5  6  7]\n",
            "  [ 8  9 10 11]]\n",
            "\n",
            " [[12 13 14 15]\n",
            "  [16 17 18 19]\n",
            "  [20 21 22 23]]]\n"
          ]
        }
      ],
      "source": [
        "import numpy\n",
        "arr=numpy.arange(24).reshape(2,3,4)\n",
        "print(arr)"
      ]
    },
    {
      "cell_type": "markdown",
      "id": "90a7b7cc",
      "metadata": {
        "id": "90a7b7cc"
      },
      "source": [
        "### Q32. Create an array from `[5, 10, 15, 20, 25]`, slice out `[10, 15, 20]`, then normalize that slice to range 0–1 using min‑max formula and print it."
      ]
    },
    {
      "cell_type": "code",
      "execution_count": 39,
      "id": "87a4a04b",
      "metadata": {
        "id": "87a4a04b",
        "outputId": "80e36e5d-0664-4120-8f1a-19de3dcc3028",
        "colab": {
          "base_uri": "https://localhost:8080/"
        }
      },
      "outputs": [
        {
          "output_type": "stream",
          "name": "stdout",
          "text": [
            "[10 15 20]\n"
          ]
        }
      ],
      "source": [
        "import numpy\n",
        "arr=numpy.array([5,10,15,20,25])\n",
        "print(arr[1:4])"
      ]
    },
    {
      "cell_type": "markdown",
      "id": "6167e37c",
      "metadata": {
        "id": "6167e37c"
      },
      "source": [
        "### Q33. Create two 1D arrays `a=[1,2,3]` and `b=[4,5,6]`; compute the dot product and also form a `3x2` matrix from `a` and `b` and print both results."
      ]
    },
    {
      "cell_type": "code",
      "execution_count": 40,
      "id": "d1ac86f0",
      "metadata": {
        "id": "d1ac86f0",
        "outputId": "ae0c1dd4-88b9-498b-e993-03807e901211",
        "colab": {
          "base_uri": "https://localhost:8080/"
        }
      },
      "outputs": [
        {
          "output_type": "stream",
          "name": "stdout",
          "text": [
            "32\n",
            "[[1 2]\n",
            " [3 4]\n",
            " [5 6]]\n"
          ]
        }
      ],
      "source": [
        "import numpy\n",
        "a=numpy.array([1,2,3])\n",
        "b=numpy.array([4,5,6])\n",
        "print(numpy.dot(a,b))\n",
        "print(numpy.array([a,b]).reshape(3,2))"
      ]
    },
    {
      "cell_type": "markdown",
      "id": "768cc1ec",
      "metadata": {
        "id": "768cc1ec"
      },
      "source": [
        "### Q34. Create an array of 12 values (1–12), reshape it to `3x4`, then count how many values are greater than `6` and print the count."
      ]
    },
    {
      "cell_type": "code",
      "execution_count": 41,
      "id": "74d303a2",
      "metadata": {
        "id": "74d303a2",
        "outputId": "af18b4b1-dd20-4d9e-98b0-e420f5259865",
        "colab": {
          "base_uri": "https://localhost:8080/"
        }
      },
      "outputs": [
        {
          "output_type": "stream",
          "name": "stdout",
          "text": [
            "[[ 1  2  3  4]\n",
            " [ 5  6  7  8]\n",
            " [ 9 10 11 12]]\n"
          ]
        }
      ],
      "source": [
        "import numpy\n",
        "arr=numpy.arange(1,13).reshape(3,4)\n",
        "print(arr)"
      ]
    },
    {
      "cell_type": "markdown",
      "id": "9dc33ec2",
      "metadata": {
        "id": "9dc33ec2"
      },
      "source": [
        "### Q35. Create an array from 0–9; replace all odd numbers with `-1` *except* keep the first and last elements unchanged; print the final array."
      ]
    },
    {
      "cell_type": "code",
      "execution_count": 42,
      "id": "7e270c74",
      "metadata": {
        "id": "7e270c74",
        "outputId": "1e712044-da2b-4ea6-db15-de056d58bc33",
        "colab": {
          "base_uri": "https://localhost:8080/"
        }
      },
      "outputs": [
        {
          "output_type": "stream",
          "name": "stdout",
          "text": [
            "[0 1 2 3 4 5 6 7 8 9]\n"
          ]
        }
      ],
      "source": [
        "import numpy\n",
        "arr=numpy.arange(10)\n",
        "print(arr)"
      ]
    },
    {
      "cell_type": "markdown",
      "id": "6079a0e7",
      "metadata": {
        "id": "6079a0e7"
      },
      "source": [
        "### Dataset for Q36–Q40\n",
        "\n",
        "A CSV file **`students_scores.csv`** is already placed in this folder (Link-https://drive.google.com/file/d/1B7zDahhmQzXkQmvskS27H07B4Xftf9xA/view?usp=sharing).  \n",
        "\n",
        "Columns: `id, math, english, science` (10 students). Use **pandas** to import the file and then perform **NumPy** operations.\n"
      ]
    },
    {
      "cell_type": "markdown",
      "id": "a13f8d60",
      "metadata": {
        "id": "a13f8d60"
      },
      "source": [
        "### Q36. Import `students_scores.csv` as a pandas DataFrame `df`. Then convert the `math`, `english`, and `science` columns to separate NumPy arrays and print their shapes."
      ]
    },
    {
      "cell_type": "code",
      "execution_count": 43,
      "id": "d144170d",
      "metadata": {
        "id": "d144170d",
        "outputId": "d3efdb2c-6f10-4200-ef6f-0be295b8e28f",
        "colab": {
          "base_uri": "https://localhost:8080/",
          "height": 339
        }
      },
      "outputs": [
        {
          "output_type": "error",
          "ename": "FileNotFoundError",
          "evalue": "[Errno 2] No such file or directory: 'students_scores.csv'",
          "traceback": [
            "\u001b[0;31m---------------------------------------------------------------------------\u001b[0m",
            "\u001b[0;31mFileNotFoundError\u001b[0m                         Traceback (most recent call last)",
            "\u001b[0;32m/tmp/ipython-input-1039117661.py\u001b[0m in \u001b[0;36m<cell line: 0>\u001b[0;34m()\u001b[0m\n\u001b[1;32m      1\u001b[0m \u001b[0;32mimport\u001b[0m \u001b[0mnumpy\u001b[0m\u001b[0;34m\u001b[0m\u001b[0;34m\u001b[0m\u001b[0m\n\u001b[1;32m      2\u001b[0m \u001b[0;32mimport\u001b[0m \u001b[0mpandas\u001b[0m\u001b[0;34m\u001b[0m\u001b[0;34m\u001b[0m\u001b[0m\n\u001b[0;32m----> 3\u001b[0;31m \u001b[0mdf\u001b[0m\u001b[0;34m=\u001b[0m\u001b[0mpandas\u001b[0m\u001b[0;34m.\u001b[0m\u001b[0mread_csv\u001b[0m\u001b[0;34m(\u001b[0m\u001b[0;34m\"students_scores.csv\"\u001b[0m\u001b[0;34m)\u001b[0m\u001b[0;34m\u001b[0m\u001b[0;34m\u001b[0m\u001b[0m\n\u001b[0m\u001b[1;32m      4\u001b[0m \u001b[0mprint\u001b[0m\u001b[0;34m(\u001b[0m\u001b[0mdf\u001b[0m\u001b[0;34m)\u001b[0m\u001b[0;34m\u001b[0m\u001b[0;34m\u001b[0m\u001b[0m\n",
            "\u001b[0;32m/usr/local/lib/python3.12/dist-packages/pandas/io/parsers/readers.py\u001b[0m in \u001b[0;36mread_csv\u001b[0;34m(filepath_or_buffer, sep, delimiter, header, names, index_col, usecols, dtype, engine, converters, true_values, false_values, skipinitialspace, skiprows, skipfooter, nrows, na_values, keep_default_na, na_filter, verbose, skip_blank_lines, parse_dates, infer_datetime_format, keep_date_col, date_parser, date_format, dayfirst, cache_dates, iterator, chunksize, compression, thousands, decimal, lineterminator, quotechar, quoting, doublequote, escapechar, comment, encoding, encoding_errors, dialect, on_bad_lines, delim_whitespace, low_memory, memory_map, float_precision, storage_options, dtype_backend)\u001b[0m\n\u001b[1;32m   1024\u001b[0m     \u001b[0mkwds\u001b[0m\u001b[0;34m.\u001b[0m\u001b[0mupdate\u001b[0m\u001b[0;34m(\u001b[0m\u001b[0mkwds_defaults\u001b[0m\u001b[0;34m)\u001b[0m\u001b[0;34m\u001b[0m\u001b[0;34m\u001b[0m\u001b[0m\n\u001b[1;32m   1025\u001b[0m \u001b[0;34m\u001b[0m\u001b[0m\n\u001b[0;32m-> 1026\u001b[0;31m     \u001b[0;32mreturn\u001b[0m \u001b[0m_read\u001b[0m\u001b[0;34m(\u001b[0m\u001b[0mfilepath_or_buffer\u001b[0m\u001b[0;34m,\u001b[0m \u001b[0mkwds\u001b[0m\u001b[0;34m)\u001b[0m\u001b[0;34m\u001b[0m\u001b[0;34m\u001b[0m\u001b[0m\n\u001b[0m\u001b[1;32m   1027\u001b[0m \u001b[0;34m\u001b[0m\u001b[0m\n\u001b[1;32m   1028\u001b[0m \u001b[0;34m\u001b[0m\u001b[0m\n",
            "\u001b[0;32m/usr/local/lib/python3.12/dist-packages/pandas/io/parsers/readers.py\u001b[0m in \u001b[0;36m_read\u001b[0;34m(filepath_or_buffer, kwds)\u001b[0m\n\u001b[1;32m    618\u001b[0m \u001b[0;34m\u001b[0m\u001b[0m\n\u001b[1;32m    619\u001b[0m     \u001b[0;31m# Create the parser.\u001b[0m\u001b[0;34m\u001b[0m\u001b[0;34m\u001b[0m\u001b[0m\n\u001b[0;32m--> 620\u001b[0;31m     \u001b[0mparser\u001b[0m \u001b[0;34m=\u001b[0m \u001b[0mTextFileReader\u001b[0m\u001b[0;34m(\u001b[0m\u001b[0mfilepath_or_buffer\u001b[0m\u001b[0;34m,\u001b[0m \u001b[0;34m**\u001b[0m\u001b[0mkwds\u001b[0m\u001b[0;34m)\u001b[0m\u001b[0;34m\u001b[0m\u001b[0;34m\u001b[0m\u001b[0m\n\u001b[0m\u001b[1;32m    621\u001b[0m \u001b[0;34m\u001b[0m\u001b[0m\n\u001b[1;32m    622\u001b[0m     \u001b[0;32mif\u001b[0m \u001b[0mchunksize\u001b[0m \u001b[0;32mor\u001b[0m \u001b[0miterator\u001b[0m\u001b[0;34m:\u001b[0m\u001b[0;34m\u001b[0m\u001b[0;34m\u001b[0m\u001b[0m\n",
            "\u001b[0;32m/usr/local/lib/python3.12/dist-packages/pandas/io/parsers/readers.py\u001b[0m in \u001b[0;36m__init__\u001b[0;34m(self, f, engine, **kwds)\u001b[0m\n\u001b[1;32m   1618\u001b[0m \u001b[0;34m\u001b[0m\u001b[0m\n\u001b[1;32m   1619\u001b[0m         \u001b[0mself\u001b[0m\u001b[0;34m.\u001b[0m\u001b[0mhandles\u001b[0m\u001b[0;34m:\u001b[0m \u001b[0mIOHandles\u001b[0m \u001b[0;34m|\u001b[0m \u001b[0;32mNone\u001b[0m \u001b[0;34m=\u001b[0m \u001b[0;32mNone\u001b[0m\u001b[0;34m\u001b[0m\u001b[0;34m\u001b[0m\u001b[0m\n\u001b[0;32m-> 1620\u001b[0;31m         \u001b[0mself\u001b[0m\u001b[0;34m.\u001b[0m\u001b[0m_engine\u001b[0m \u001b[0;34m=\u001b[0m \u001b[0mself\u001b[0m\u001b[0;34m.\u001b[0m\u001b[0m_make_engine\u001b[0m\u001b[0;34m(\u001b[0m\u001b[0mf\u001b[0m\u001b[0;34m,\u001b[0m \u001b[0mself\u001b[0m\u001b[0;34m.\u001b[0m\u001b[0mengine\u001b[0m\u001b[0;34m)\u001b[0m\u001b[0;34m\u001b[0m\u001b[0;34m\u001b[0m\u001b[0m\n\u001b[0m\u001b[1;32m   1621\u001b[0m \u001b[0;34m\u001b[0m\u001b[0m\n\u001b[1;32m   1622\u001b[0m     \u001b[0;32mdef\u001b[0m \u001b[0mclose\u001b[0m\u001b[0;34m(\u001b[0m\u001b[0mself\u001b[0m\u001b[0;34m)\u001b[0m \u001b[0;34m->\u001b[0m \u001b[0;32mNone\u001b[0m\u001b[0;34m:\u001b[0m\u001b[0;34m\u001b[0m\u001b[0;34m\u001b[0m\u001b[0m\n",
            "\u001b[0;32m/usr/local/lib/python3.12/dist-packages/pandas/io/parsers/readers.py\u001b[0m in \u001b[0;36m_make_engine\u001b[0;34m(self, f, engine)\u001b[0m\n\u001b[1;32m   1878\u001b[0m                 \u001b[0;32mif\u001b[0m \u001b[0;34m\"b\"\u001b[0m \u001b[0;32mnot\u001b[0m \u001b[0;32min\u001b[0m \u001b[0mmode\u001b[0m\u001b[0;34m:\u001b[0m\u001b[0;34m\u001b[0m\u001b[0;34m\u001b[0m\u001b[0m\n\u001b[1;32m   1879\u001b[0m                     \u001b[0mmode\u001b[0m \u001b[0;34m+=\u001b[0m \u001b[0;34m\"b\"\u001b[0m\u001b[0;34m\u001b[0m\u001b[0;34m\u001b[0m\u001b[0m\n\u001b[0;32m-> 1880\u001b[0;31m             self.handles = get_handle(\n\u001b[0m\u001b[1;32m   1881\u001b[0m                 \u001b[0mf\u001b[0m\u001b[0;34m,\u001b[0m\u001b[0;34m\u001b[0m\u001b[0;34m\u001b[0m\u001b[0m\n\u001b[1;32m   1882\u001b[0m                 \u001b[0mmode\u001b[0m\u001b[0;34m,\u001b[0m\u001b[0;34m\u001b[0m\u001b[0;34m\u001b[0m\u001b[0m\n",
            "\u001b[0;32m/usr/local/lib/python3.12/dist-packages/pandas/io/common.py\u001b[0m in \u001b[0;36mget_handle\u001b[0;34m(path_or_buf, mode, encoding, compression, memory_map, is_text, errors, storage_options)\u001b[0m\n\u001b[1;32m    871\u001b[0m         \u001b[0;32mif\u001b[0m \u001b[0mioargs\u001b[0m\u001b[0;34m.\u001b[0m\u001b[0mencoding\u001b[0m \u001b[0;32mand\u001b[0m \u001b[0;34m\"b\"\u001b[0m \u001b[0;32mnot\u001b[0m \u001b[0;32min\u001b[0m \u001b[0mioargs\u001b[0m\u001b[0;34m.\u001b[0m\u001b[0mmode\u001b[0m\u001b[0;34m:\u001b[0m\u001b[0;34m\u001b[0m\u001b[0;34m\u001b[0m\u001b[0m\n\u001b[1;32m    872\u001b[0m             \u001b[0;31m# Encoding\u001b[0m\u001b[0;34m\u001b[0m\u001b[0;34m\u001b[0m\u001b[0m\n\u001b[0;32m--> 873\u001b[0;31m             handle = open(\n\u001b[0m\u001b[1;32m    874\u001b[0m                 \u001b[0mhandle\u001b[0m\u001b[0;34m,\u001b[0m\u001b[0;34m\u001b[0m\u001b[0;34m\u001b[0m\u001b[0m\n\u001b[1;32m    875\u001b[0m                 \u001b[0mioargs\u001b[0m\u001b[0;34m.\u001b[0m\u001b[0mmode\u001b[0m\u001b[0;34m,\u001b[0m\u001b[0;34m\u001b[0m\u001b[0;34m\u001b[0m\u001b[0m\n",
            "\u001b[0;31mFileNotFoundError\u001b[0m: [Errno 2] No such file or directory: 'students_scores.csv'"
          ]
        }
      ],
      "source": [
        "import numpy\n",
        "import pandas\n",
        "df=pandas.read_csv(\"students_scores.csv\")\n",
        "print(df)\n"
      ]
    },
    {
      "cell_type": "markdown",
      "id": "75133471",
      "metadata": {
        "id": "75133471"
      },
      "source": [
        "### Q37. Using NumPy on the arrays from Q36, compute the mean score of each subject (math, english, science) and print them."
      ]
    },
    {
      "cell_type": "code",
      "execution_count": 44,
      "id": "2a0f8fa4",
      "metadata": {
        "id": "2a0f8fa4",
        "outputId": "0c26096f-e37b-489f-8bce-1941a308633e",
        "colab": {
          "base_uri": "https://localhost:8080/",
          "height": 339
        }
      },
      "outputs": [
        {
          "output_type": "error",
          "ename": "FileNotFoundError",
          "evalue": "[Errno 2] No such file or directory: 'students_scores.csv'",
          "traceback": [
            "\u001b[0;31m---------------------------------------------------------------------------\u001b[0m",
            "\u001b[0;31mFileNotFoundError\u001b[0m                         Traceback (most recent call last)",
            "\u001b[0;32m/tmp/ipython-input-1039117661.py\u001b[0m in \u001b[0;36m<cell line: 0>\u001b[0;34m()\u001b[0m\n\u001b[1;32m      1\u001b[0m \u001b[0;32mimport\u001b[0m \u001b[0mnumpy\u001b[0m\u001b[0;34m\u001b[0m\u001b[0;34m\u001b[0m\u001b[0m\n\u001b[1;32m      2\u001b[0m \u001b[0;32mimport\u001b[0m \u001b[0mpandas\u001b[0m\u001b[0;34m\u001b[0m\u001b[0;34m\u001b[0m\u001b[0m\n\u001b[0;32m----> 3\u001b[0;31m \u001b[0mdf\u001b[0m\u001b[0;34m=\u001b[0m\u001b[0mpandas\u001b[0m\u001b[0;34m.\u001b[0m\u001b[0mread_csv\u001b[0m\u001b[0;34m(\u001b[0m\u001b[0;34m\"students_scores.csv\"\u001b[0m\u001b[0;34m)\u001b[0m\u001b[0;34m\u001b[0m\u001b[0;34m\u001b[0m\u001b[0m\n\u001b[0m\u001b[1;32m      4\u001b[0m \u001b[0mprint\u001b[0m\u001b[0;34m(\u001b[0m\u001b[0mdf\u001b[0m\u001b[0;34m)\u001b[0m\u001b[0;34m\u001b[0m\u001b[0;34m\u001b[0m\u001b[0m\n",
            "\u001b[0;32m/usr/local/lib/python3.12/dist-packages/pandas/io/parsers/readers.py\u001b[0m in \u001b[0;36mread_csv\u001b[0;34m(filepath_or_buffer, sep, delimiter, header, names, index_col, usecols, dtype, engine, converters, true_values, false_values, skipinitialspace, skiprows, skipfooter, nrows, na_values, keep_default_na, na_filter, verbose, skip_blank_lines, parse_dates, infer_datetime_format, keep_date_col, date_parser, date_format, dayfirst, cache_dates, iterator, chunksize, compression, thousands, decimal, lineterminator, quotechar, quoting, doublequote, escapechar, comment, encoding, encoding_errors, dialect, on_bad_lines, delim_whitespace, low_memory, memory_map, float_precision, storage_options, dtype_backend)\u001b[0m\n\u001b[1;32m   1024\u001b[0m     \u001b[0mkwds\u001b[0m\u001b[0;34m.\u001b[0m\u001b[0mupdate\u001b[0m\u001b[0;34m(\u001b[0m\u001b[0mkwds_defaults\u001b[0m\u001b[0;34m)\u001b[0m\u001b[0;34m\u001b[0m\u001b[0;34m\u001b[0m\u001b[0m\n\u001b[1;32m   1025\u001b[0m \u001b[0;34m\u001b[0m\u001b[0m\n\u001b[0;32m-> 1026\u001b[0;31m     \u001b[0;32mreturn\u001b[0m \u001b[0m_read\u001b[0m\u001b[0;34m(\u001b[0m\u001b[0mfilepath_or_buffer\u001b[0m\u001b[0;34m,\u001b[0m \u001b[0mkwds\u001b[0m\u001b[0;34m)\u001b[0m\u001b[0;34m\u001b[0m\u001b[0;34m\u001b[0m\u001b[0m\n\u001b[0m\u001b[1;32m   1027\u001b[0m \u001b[0;34m\u001b[0m\u001b[0m\n\u001b[1;32m   1028\u001b[0m \u001b[0;34m\u001b[0m\u001b[0m\n",
            "\u001b[0;32m/usr/local/lib/python3.12/dist-packages/pandas/io/parsers/readers.py\u001b[0m in \u001b[0;36m_read\u001b[0;34m(filepath_or_buffer, kwds)\u001b[0m\n\u001b[1;32m    618\u001b[0m \u001b[0;34m\u001b[0m\u001b[0m\n\u001b[1;32m    619\u001b[0m     \u001b[0;31m# Create the parser.\u001b[0m\u001b[0;34m\u001b[0m\u001b[0;34m\u001b[0m\u001b[0m\n\u001b[0;32m--> 620\u001b[0;31m     \u001b[0mparser\u001b[0m \u001b[0;34m=\u001b[0m \u001b[0mTextFileReader\u001b[0m\u001b[0;34m(\u001b[0m\u001b[0mfilepath_or_buffer\u001b[0m\u001b[0;34m,\u001b[0m \u001b[0;34m**\u001b[0m\u001b[0mkwds\u001b[0m\u001b[0;34m)\u001b[0m\u001b[0;34m\u001b[0m\u001b[0;34m\u001b[0m\u001b[0m\n\u001b[0m\u001b[1;32m    621\u001b[0m \u001b[0;34m\u001b[0m\u001b[0m\n\u001b[1;32m    622\u001b[0m     \u001b[0;32mif\u001b[0m \u001b[0mchunksize\u001b[0m \u001b[0;32mor\u001b[0m \u001b[0miterator\u001b[0m\u001b[0;34m:\u001b[0m\u001b[0;34m\u001b[0m\u001b[0;34m\u001b[0m\u001b[0m\n",
            "\u001b[0;32m/usr/local/lib/python3.12/dist-packages/pandas/io/parsers/readers.py\u001b[0m in \u001b[0;36m__init__\u001b[0;34m(self, f, engine, **kwds)\u001b[0m\n\u001b[1;32m   1618\u001b[0m \u001b[0;34m\u001b[0m\u001b[0m\n\u001b[1;32m   1619\u001b[0m         \u001b[0mself\u001b[0m\u001b[0;34m.\u001b[0m\u001b[0mhandles\u001b[0m\u001b[0;34m:\u001b[0m \u001b[0mIOHandles\u001b[0m \u001b[0;34m|\u001b[0m \u001b[0;32mNone\u001b[0m \u001b[0;34m=\u001b[0m \u001b[0;32mNone\u001b[0m\u001b[0;34m\u001b[0m\u001b[0;34m\u001b[0m\u001b[0m\n\u001b[0;32m-> 1620\u001b[0;31m         \u001b[0mself\u001b[0m\u001b[0;34m.\u001b[0m\u001b[0m_engine\u001b[0m \u001b[0;34m=\u001b[0m \u001b[0mself\u001b[0m\u001b[0;34m.\u001b[0m\u001b[0m_make_engine\u001b[0m\u001b[0;34m(\u001b[0m\u001b[0mf\u001b[0m\u001b[0;34m,\u001b[0m \u001b[0mself\u001b[0m\u001b[0;34m.\u001b[0m\u001b[0mengine\u001b[0m\u001b[0;34m)\u001b[0m\u001b[0;34m\u001b[0m\u001b[0;34m\u001b[0m\u001b[0m\n\u001b[0m\u001b[1;32m   1621\u001b[0m \u001b[0;34m\u001b[0m\u001b[0m\n\u001b[1;32m   1622\u001b[0m     \u001b[0;32mdef\u001b[0m \u001b[0mclose\u001b[0m\u001b[0;34m(\u001b[0m\u001b[0mself\u001b[0m\u001b[0;34m)\u001b[0m \u001b[0;34m->\u001b[0m \u001b[0;32mNone\u001b[0m\u001b[0;34m:\u001b[0m\u001b[0;34m\u001b[0m\u001b[0;34m\u001b[0m\u001b[0m\n",
            "\u001b[0;32m/usr/local/lib/python3.12/dist-packages/pandas/io/parsers/readers.py\u001b[0m in \u001b[0;36m_make_engine\u001b[0;34m(self, f, engine)\u001b[0m\n\u001b[1;32m   1878\u001b[0m                 \u001b[0;32mif\u001b[0m \u001b[0;34m\"b\"\u001b[0m \u001b[0;32mnot\u001b[0m \u001b[0;32min\u001b[0m \u001b[0mmode\u001b[0m\u001b[0;34m:\u001b[0m\u001b[0;34m\u001b[0m\u001b[0;34m\u001b[0m\u001b[0m\n\u001b[1;32m   1879\u001b[0m                     \u001b[0mmode\u001b[0m \u001b[0;34m+=\u001b[0m \u001b[0;34m\"b\"\u001b[0m\u001b[0;34m\u001b[0m\u001b[0;34m\u001b[0m\u001b[0m\n\u001b[0;32m-> 1880\u001b[0;31m             self.handles = get_handle(\n\u001b[0m\u001b[1;32m   1881\u001b[0m                 \u001b[0mf\u001b[0m\u001b[0;34m,\u001b[0m\u001b[0;34m\u001b[0m\u001b[0;34m\u001b[0m\u001b[0m\n\u001b[1;32m   1882\u001b[0m                 \u001b[0mmode\u001b[0m\u001b[0;34m,\u001b[0m\u001b[0;34m\u001b[0m\u001b[0;34m\u001b[0m\u001b[0m\n",
            "\u001b[0;32m/usr/local/lib/python3.12/dist-packages/pandas/io/common.py\u001b[0m in \u001b[0;36mget_handle\u001b[0;34m(path_or_buf, mode, encoding, compression, memory_map, is_text, errors, storage_options)\u001b[0m\n\u001b[1;32m    871\u001b[0m         \u001b[0;32mif\u001b[0m \u001b[0mioargs\u001b[0m\u001b[0;34m.\u001b[0m\u001b[0mencoding\u001b[0m \u001b[0;32mand\u001b[0m \u001b[0;34m\"b\"\u001b[0m \u001b[0;32mnot\u001b[0m \u001b[0;32min\u001b[0m \u001b[0mioargs\u001b[0m\u001b[0;34m.\u001b[0m\u001b[0mmode\u001b[0m\u001b[0;34m:\u001b[0m\u001b[0;34m\u001b[0m\u001b[0;34m\u001b[0m\u001b[0m\n\u001b[1;32m    872\u001b[0m             \u001b[0;31m# Encoding\u001b[0m\u001b[0;34m\u001b[0m\u001b[0;34m\u001b[0m\u001b[0m\n\u001b[0;32m--> 873\u001b[0;31m             handle = open(\n\u001b[0m\u001b[1;32m    874\u001b[0m                 \u001b[0mhandle\u001b[0m\u001b[0;34m,\u001b[0m\u001b[0;34m\u001b[0m\u001b[0;34m\u001b[0m\u001b[0m\n\u001b[1;32m    875\u001b[0m                 \u001b[0mioargs\u001b[0m\u001b[0;34m.\u001b[0m\u001b[0mmode\u001b[0m\u001b[0;34m,\u001b[0m\u001b[0;34m\u001b[0m\u001b[0;34m\u001b[0m\u001b[0m\n",
            "\u001b[0;31mFileNotFoundError\u001b[0m: [Errno 2] No such file or directory: 'students_scores.csv'"
          ]
        }
      ],
      "source": [
        "import numpy\n",
        "import pandas\n",
        "df=pandas.read_csv(\"students_scores.csv\")\n",
        "print(df)"
      ]
    },
    {
      "cell_type": "markdown",
      "id": "ff04b9d9",
      "metadata": {
        "id": "ff04b9d9"
      },
      "source": [
        "### Q38. Using NumPy, compute each student’s **total score** (math + english + science) and print the `id` of the student with the highest total."
      ]
    },
    {
      "cell_type": "code",
      "execution_count": 45,
      "id": "30e375cf",
      "metadata": {
        "id": "30e375cf",
        "outputId": "28adc046-ce86-403e-c9ed-738f803b260b",
        "colab": {
          "base_uri": "https://localhost:8080/",
          "height": 339
        }
      },
      "outputs": [
        {
          "output_type": "error",
          "ename": "FileNotFoundError",
          "evalue": "[Errno 2] No such file or directory: 'students_scores.csv'",
          "traceback": [
            "\u001b[0;31m---------------------------------------------------------------------------\u001b[0m",
            "\u001b[0;31mFileNotFoundError\u001b[0m                         Traceback (most recent call last)",
            "\u001b[0;32m/tmp/ipython-input-1039117661.py\u001b[0m in \u001b[0;36m<cell line: 0>\u001b[0;34m()\u001b[0m\n\u001b[1;32m      1\u001b[0m \u001b[0;32mimport\u001b[0m \u001b[0mnumpy\u001b[0m\u001b[0;34m\u001b[0m\u001b[0;34m\u001b[0m\u001b[0m\n\u001b[1;32m      2\u001b[0m \u001b[0;32mimport\u001b[0m \u001b[0mpandas\u001b[0m\u001b[0;34m\u001b[0m\u001b[0;34m\u001b[0m\u001b[0m\n\u001b[0;32m----> 3\u001b[0;31m \u001b[0mdf\u001b[0m\u001b[0;34m=\u001b[0m\u001b[0mpandas\u001b[0m\u001b[0;34m.\u001b[0m\u001b[0mread_csv\u001b[0m\u001b[0;34m(\u001b[0m\u001b[0;34m\"students_scores.csv\"\u001b[0m\u001b[0;34m)\u001b[0m\u001b[0;34m\u001b[0m\u001b[0;34m\u001b[0m\u001b[0m\n\u001b[0m\u001b[1;32m      4\u001b[0m \u001b[0mprint\u001b[0m\u001b[0;34m(\u001b[0m\u001b[0mdf\u001b[0m\u001b[0;34m)\u001b[0m\u001b[0;34m\u001b[0m\u001b[0;34m\u001b[0m\u001b[0m\n",
            "\u001b[0;32m/usr/local/lib/python3.12/dist-packages/pandas/io/parsers/readers.py\u001b[0m in \u001b[0;36mread_csv\u001b[0;34m(filepath_or_buffer, sep, delimiter, header, names, index_col, usecols, dtype, engine, converters, true_values, false_values, skipinitialspace, skiprows, skipfooter, nrows, na_values, keep_default_na, na_filter, verbose, skip_blank_lines, parse_dates, infer_datetime_format, keep_date_col, date_parser, date_format, dayfirst, cache_dates, iterator, chunksize, compression, thousands, decimal, lineterminator, quotechar, quoting, doublequote, escapechar, comment, encoding, encoding_errors, dialect, on_bad_lines, delim_whitespace, low_memory, memory_map, float_precision, storage_options, dtype_backend)\u001b[0m\n\u001b[1;32m   1024\u001b[0m     \u001b[0mkwds\u001b[0m\u001b[0;34m.\u001b[0m\u001b[0mupdate\u001b[0m\u001b[0;34m(\u001b[0m\u001b[0mkwds_defaults\u001b[0m\u001b[0;34m)\u001b[0m\u001b[0;34m\u001b[0m\u001b[0;34m\u001b[0m\u001b[0m\n\u001b[1;32m   1025\u001b[0m \u001b[0;34m\u001b[0m\u001b[0m\n\u001b[0;32m-> 1026\u001b[0;31m     \u001b[0;32mreturn\u001b[0m \u001b[0m_read\u001b[0m\u001b[0;34m(\u001b[0m\u001b[0mfilepath_or_buffer\u001b[0m\u001b[0;34m,\u001b[0m \u001b[0mkwds\u001b[0m\u001b[0;34m)\u001b[0m\u001b[0;34m\u001b[0m\u001b[0;34m\u001b[0m\u001b[0m\n\u001b[0m\u001b[1;32m   1027\u001b[0m \u001b[0;34m\u001b[0m\u001b[0m\n\u001b[1;32m   1028\u001b[0m \u001b[0;34m\u001b[0m\u001b[0m\n",
            "\u001b[0;32m/usr/local/lib/python3.12/dist-packages/pandas/io/parsers/readers.py\u001b[0m in \u001b[0;36m_read\u001b[0;34m(filepath_or_buffer, kwds)\u001b[0m\n\u001b[1;32m    618\u001b[0m \u001b[0;34m\u001b[0m\u001b[0m\n\u001b[1;32m    619\u001b[0m     \u001b[0;31m# Create the parser.\u001b[0m\u001b[0;34m\u001b[0m\u001b[0;34m\u001b[0m\u001b[0m\n\u001b[0;32m--> 620\u001b[0;31m     \u001b[0mparser\u001b[0m \u001b[0;34m=\u001b[0m \u001b[0mTextFileReader\u001b[0m\u001b[0;34m(\u001b[0m\u001b[0mfilepath_or_buffer\u001b[0m\u001b[0;34m,\u001b[0m \u001b[0;34m**\u001b[0m\u001b[0mkwds\u001b[0m\u001b[0;34m)\u001b[0m\u001b[0;34m\u001b[0m\u001b[0;34m\u001b[0m\u001b[0m\n\u001b[0m\u001b[1;32m    621\u001b[0m \u001b[0;34m\u001b[0m\u001b[0m\n\u001b[1;32m    622\u001b[0m     \u001b[0;32mif\u001b[0m \u001b[0mchunksize\u001b[0m \u001b[0;32mor\u001b[0m \u001b[0miterator\u001b[0m\u001b[0;34m:\u001b[0m\u001b[0;34m\u001b[0m\u001b[0;34m\u001b[0m\u001b[0m\n",
            "\u001b[0;32m/usr/local/lib/python3.12/dist-packages/pandas/io/parsers/readers.py\u001b[0m in \u001b[0;36m__init__\u001b[0;34m(self, f, engine, **kwds)\u001b[0m\n\u001b[1;32m   1618\u001b[0m \u001b[0;34m\u001b[0m\u001b[0m\n\u001b[1;32m   1619\u001b[0m         \u001b[0mself\u001b[0m\u001b[0;34m.\u001b[0m\u001b[0mhandles\u001b[0m\u001b[0;34m:\u001b[0m \u001b[0mIOHandles\u001b[0m \u001b[0;34m|\u001b[0m \u001b[0;32mNone\u001b[0m \u001b[0;34m=\u001b[0m \u001b[0;32mNone\u001b[0m\u001b[0;34m\u001b[0m\u001b[0;34m\u001b[0m\u001b[0m\n\u001b[0;32m-> 1620\u001b[0;31m         \u001b[0mself\u001b[0m\u001b[0;34m.\u001b[0m\u001b[0m_engine\u001b[0m \u001b[0;34m=\u001b[0m \u001b[0mself\u001b[0m\u001b[0;34m.\u001b[0m\u001b[0m_make_engine\u001b[0m\u001b[0;34m(\u001b[0m\u001b[0mf\u001b[0m\u001b[0;34m,\u001b[0m \u001b[0mself\u001b[0m\u001b[0;34m.\u001b[0m\u001b[0mengine\u001b[0m\u001b[0;34m)\u001b[0m\u001b[0;34m\u001b[0m\u001b[0;34m\u001b[0m\u001b[0m\n\u001b[0m\u001b[1;32m   1621\u001b[0m \u001b[0;34m\u001b[0m\u001b[0m\n\u001b[1;32m   1622\u001b[0m     \u001b[0;32mdef\u001b[0m \u001b[0mclose\u001b[0m\u001b[0;34m(\u001b[0m\u001b[0mself\u001b[0m\u001b[0;34m)\u001b[0m \u001b[0;34m->\u001b[0m \u001b[0;32mNone\u001b[0m\u001b[0;34m:\u001b[0m\u001b[0;34m\u001b[0m\u001b[0;34m\u001b[0m\u001b[0m\n",
            "\u001b[0;32m/usr/local/lib/python3.12/dist-packages/pandas/io/parsers/readers.py\u001b[0m in \u001b[0;36m_make_engine\u001b[0;34m(self, f, engine)\u001b[0m\n\u001b[1;32m   1878\u001b[0m                 \u001b[0;32mif\u001b[0m \u001b[0;34m\"b\"\u001b[0m \u001b[0;32mnot\u001b[0m \u001b[0;32min\u001b[0m \u001b[0mmode\u001b[0m\u001b[0;34m:\u001b[0m\u001b[0;34m\u001b[0m\u001b[0;34m\u001b[0m\u001b[0m\n\u001b[1;32m   1879\u001b[0m                     \u001b[0mmode\u001b[0m \u001b[0;34m+=\u001b[0m \u001b[0;34m\"b\"\u001b[0m\u001b[0;34m\u001b[0m\u001b[0;34m\u001b[0m\u001b[0m\n\u001b[0;32m-> 1880\u001b[0;31m             self.handles = get_handle(\n\u001b[0m\u001b[1;32m   1881\u001b[0m                 \u001b[0mf\u001b[0m\u001b[0;34m,\u001b[0m\u001b[0;34m\u001b[0m\u001b[0;34m\u001b[0m\u001b[0m\n\u001b[1;32m   1882\u001b[0m                 \u001b[0mmode\u001b[0m\u001b[0;34m,\u001b[0m\u001b[0;34m\u001b[0m\u001b[0;34m\u001b[0m\u001b[0m\n",
            "\u001b[0;32m/usr/local/lib/python3.12/dist-packages/pandas/io/common.py\u001b[0m in \u001b[0;36mget_handle\u001b[0;34m(path_or_buf, mode, encoding, compression, memory_map, is_text, errors, storage_options)\u001b[0m\n\u001b[1;32m    871\u001b[0m         \u001b[0;32mif\u001b[0m \u001b[0mioargs\u001b[0m\u001b[0;34m.\u001b[0m\u001b[0mencoding\u001b[0m \u001b[0;32mand\u001b[0m \u001b[0;34m\"b\"\u001b[0m \u001b[0;32mnot\u001b[0m \u001b[0;32min\u001b[0m \u001b[0mioargs\u001b[0m\u001b[0;34m.\u001b[0m\u001b[0mmode\u001b[0m\u001b[0;34m:\u001b[0m\u001b[0;34m\u001b[0m\u001b[0;34m\u001b[0m\u001b[0m\n\u001b[1;32m    872\u001b[0m             \u001b[0;31m# Encoding\u001b[0m\u001b[0;34m\u001b[0m\u001b[0;34m\u001b[0m\u001b[0m\n\u001b[0;32m--> 873\u001b[0;31m             handle = open(\n\u001b[0m\u001b[1;32m    874\u001b[0m                 \u001b[0mhandle\u001b[0m\u001b[0;34m,\u001b[0m\u001b[0;34m\u001b[0m\u001b[0;34m\u001b[0m\u001b[0m\n\u001b[1;32m    875\u001b[0m                 \u001b[0mioargs\u001b[0m\u001b[0;34m.\u001b[0m\u001b[0mmode\u001b[0m\u001b[0;34m,\u001b[0m\u001b[0;34m\u001b[0m\u001b[0;34m\u001b[0m\u001b[0m\n",
            "\u001b[0;31mFileNotFoundError\u001b[0m: [Errno 2] No such file or directory: 'students_scores.csv'"
          ]
        }
      ],
      "source": [
        "import numpy\n",
        "import pandas\n",
        "df=pandas.read_csv(\"students_scores.csv\")\n",
        "print(df)"
      ]
    },
    {
      "cell_type": "markdown",
      "id": "187f60d3",
      "metadata": {
        "id": "187f60d3"
      },
      "source": [
        "### Q39. Using NumPy, standardize the `math` scores to **z-scores**: `(x - mean) / std` and print the first 5 standardized values."
      ]
    },
    {
      "cell_type": "code",
      "execution_count": 46,
      "id": "a92c0ff5",
      "metadata": {
        "id": "a92c0ff5",
        "outputId": "4cc65346-50a1-48e8-fcb9-a3d4d10640bc",
        "colab": {
          "base_uri": "https://localhost:8080/",
          "height": 339
        }
      },
      "outputs": [
        {
          "output_type": "error",
          "ename": "FileNotFoundError",
          "evalue": "[Errno 2] No such file or directory: 'students_scores.csv'",
          "traceback": [
            "\u001b[0;31m---------------------------------------------------------------------------\u001b[0m",
            "\u001b[0;31mFileNotFoundError\u001b[0m                         Traceback (most recent call last)",
            "\u001b[0;32m/tmp/ipython-input-1039117661.py\u001b[0m in \u001b[0;36m<cell line: 0>\u001b[0;34m()\u001b[0m\n\u001b[1;32m      1\u001b[0m \u001b[0;32mimport\u001b[0m \u001b[0mnumpy\u001b[0m\u001b[0;34m\u001b[0m\u001b[0;34m\u001b[0m\u001b[0m\n\u001b[1;32m      2\u001b[0m \u001b[0;32mimport\u001b[0m \u001b[0mpandas\u001b[0m\u001b[0;34m\u001b[0m\u001b[0;34m\u001b[0m\u001b[0m\n\u001b[0;32m----> 3\u001b[0;31m \u001b[0mdf\u001b[0m\u001b[0;34m=\u001b[0m\u001b[0mpandas\u001b[0m\u001b[0;34m.\u001b[0m\u001b[0mread_csv\u001b[0m\u001b[0;34m(\u001b[0m\u001b[0;34m\"students_scores.csv\"\u001b[0m\u001b[0;34m)\u001b[0m\u001b[0;34m\u001b[0m\u001b[0;34m\u001b[0m\u001b[0m\n\u001b[0m\u001b[1;32m      4\u001b[0m \u001b[0mprint\u001b[0m\u001b[0;34m(\u001b[0m\u001b[0mdf\u001b[0m\u001b[0;34m)\u001b[0m\u001b[0;34m\u001b[0m\u001b[0;34m\u001b[0m\u001b[0m\n",
            "\u001b[0;32m/usr/local/lib/python3.12/dist-packages/pandas/io/parsers/readers.py\u001b[0m in \u001b[0;36mread_csv\u001b[0;34m(filepath_or_buffer, sep, delimiter, header, names, index_col, usecols, dtype, engine, converters, true_values, false_values, skipinitialspace, skiprows, skipfooter, nrows, na_values, keep_default_na, na_filter, verbose, skip_blank_lines, parse_dates, infer_datetime_format, keep_date_col, date_parser, date_format, dayfirst, cache_dates, iterator, chunksize, compression, thousands, decimal, lineterminator, quotechar, quoting, doublequote, escapechar, comment, encoding, encoding_errors, dialect, on_bad_lines, delim_whitespace, low_memory, memory_map, float_precision, storage_options, dtype_backend)\u001b[0m\n\u001b[1;32m   1024\u001b[0m     \u001b[0mkwds\u001b[0m\u001b[0;34m.\u001b[0m\u001b[0mupdate\u001b[0m\u001b[0;34m(\u001b[0m\u001b[0mkwds_defaults\u001b[0m\u001b[0;34m)\u001b[0m\u001b[0;34m\u001b[0m\u001b[0;34m\u001b[0m\u001b[0m\n\u001b[1;32m   1025\u001b[0m \u001b[0;34m\u001b[0m\u001b[0m\n\u001b[0;32m-> 1026\u001b[0;31m     \u001b[0;32mreturn\u001b[0m \u001b[0m_read\u001b[0m\u001b[0;34m(\u001b[0m\u001b[0mfilepath_or_buffer\u001b[0m\u001b[0;34m,\u001b[0m \u001b[0mkwds\u001b[0m\u001b[0;34m)\u001b[0m\u001b[0;34m\u001b[0m\u001b[0;34m\u001b[0m\u001b[0m\n\u001b[0m\u001b[1;32m   1027\u001b[0m \u001b[0;34m\u001b[0m\u001b[0m\n\u001b[1;32m   1028\u001b[0m \u001b[0;34m\u001b[0m\u001b[0m\n",
            "\u001b[0;32m/usr/local/lib/python3.12/dist-packages/pandas/io/parsers/readers.py\u001b[0m in \u001b[0;36m_read\u001b[0;34m(filepath_or_buffer, kwds)\u001b[0m\n\u001b[1;32m    618\u001b[0m \u001b[0;34m\u001b[0m\u001b[0m\n\u001b[1;32m    619\u001b[0m     \u001b[0;31m# Create the parser.\u001b[0m\u001b[0;34m\u001b[0m\u001b[0;34m\u001b[0m\u001b[0m\n\u001b[0;32m--> 620\u001b[0;31m     \u001b[0mparser\u001b[0m \u001b[0;34m=\u001b[0m \u001b[0mTextFileReader\u001b[0m\u001b[0;34m(\u001b[0m\u001b[0mfilepath_or_buffer\u001b[0m\u001b[0;34m,\u001b[0m \u001b[0;34m**\u001b[0m\u001b[0mkwds\u001b[0m\u001b[0;34m)\u001b[0m\u001b[0;34m\u001b[0m\u001b[0;34m\u001b[0m\u001b[0m\n\u001b[0m\u001b[1;32m    621\u001b[0m \u001b[0;34m\u001b[0m\u001b[0m\n\u001b[1;32m    622\u001b[0m     \u001b[0;32mif\u001b[0m \u001b[0mchunksize\u001b[0m \u001b[0;32mor\u001b[0m \u001b[0miterator\u001b[0m\u001b[0;34m:\u001b[0m\u001b[0;34m\u001b[0m\u001b[0;34m\u001b[0m\u001b[0m\n",
            "\u001b[0;32m/usr/local/lib/python3.12/dist-packages/pandas/io/parsers/readers.py\u001b[0m in \u001b[0;36m__init__\u001b[0;34m(self, f, engine, **kwds)\u001b[0m\n\u001b[1;32m   1618\u001b[0m \u001b[0;34m\u001b[0m\u001b[0m\n\u001b[1;32m   1619\u001b[0m         \u001b[0mself\u001b[0m\u001b[0;34m.\u001b[0m\u001b[0mhandles\u001b[0m\u001b[0;34m:\u001b[0m \u001b[0mIOHandles\u001b[0m \u001b[0;34m|\u001b[0m \u001b[0;32mNone\u001b[0m \u001b[0;34m=\u001b[0m \u001b[0;32mNone\u001b[0m\u001b[0;34m\u001b[0m\u001b[0;34m\u001b[0m\u001b[0m\n\u001b[0;32m-> 1620\u001b[0;31m         \u001b[0mself\u001b[0m\u001b[0;34m.\u001b[0m\u001b[0m_engine\u001b[0m \u001b[0;34m=\u001b[0m \u001b[0mself\u001b[0m\u001b[0;34m.\u001b[0m\u001b[0m_make_engine\u001b[0m\u001b[0;34m(\u001b[0m\u001b[0mf\u001b[0m\u001b[0;34m,\u001b[0m \u001b[0mself\u001b[0m\u001b[0;34m.\u001b[0m\u001b[0mengine\u001b[0m\u001b[0;34m)\u001b[0m\u001b[0;34m\u001b[0m\u001b[0;34m\u001b[0m\u001b[0m\n\u001b[0m\u001b[1;32m   1621\u001b[0m \u001b[0;34m\u001b[0m\u001b[0m\n\u001b[1;32m   1622\u001b[0m     \u001b[0;32mdef\u001b[0m \u001b[0mclose\u001b[0m\u001b[0;34m(\u001b[0m\u001b[0mself\u001b[0m\u001b[0;34m)\u001b[0m \u001b[0;34m->\u001b[0m \u001b[0;32mNone\u001b[0m\u001b[0;34m:\u001b[0m\u001b[0;34m\u001b[0m\u001b[0;34m\u001b[0m\u001b[0m\n",
            "\u001b[0;32m/usr/local/lib/python3.12/dist-packages/pandas/io/parsers/readers.py\u001b[0m in \u001b[0;36m_make_engine\u001b[0;34m(self, f, engine)\u001b[0m\n\u001b[1;32m   1878\u001b[0m                 \u001b[0;32mif\u001b[0m \u001b[0;34m\"b\"\u001b[0m \u001b[0;32mnot\u001b[0m \u001b[0;32min\u001b[0m \u001b[0mmode\u001b[0m\u001b[0;34m:\u001b[0m\u001b[0;34m\u001b[0m\u001b[0;34m\u001b[0m\u001b[0m\n\u001b[1;32m   1879\u001b[0m                     \u001b[0mmode\u001b[0m \u001b[0;34m+=\u001b[0m \u001b[0;34m\"b\"\u001b[0m\u001b[0;34m\u001b[0m\u001b[0;34m\u001b[0m\u001b[0m\n\u001b[0;32m-> 1880\u001b[0;31m             self.handles = get_handle(\n\u001b[0m\u001b[1;32m   1881\u001b[0m                 \u001b[0mf\u001b[0m\u001b[0;34m,\u001b[0m\u001b[0;34m\u001b[0m\u001b[0;34m\u001b[0m\u001b[0m\n\u001b[1;32m   1882\u001b[0m                 \u001b[0mmode\u001b[0m\u001b[0;34m,\u001b[0m\u001b[0;34m\u001b[0m\u001b[0;34m\u001b[0m\u001b[0m\n",
            "\u001b[0;32m/usr/local/lib/python3.12/dist-packages/pandas/io/common.py\u001b[0m in \u001b[0;36mget_handle\u001b[0;34m(path_or_buf, mode, encoding, compression, memory_map, is_text, errors, storage_options)\u001b[0m\n\u001b[1;32m    871\u001b[0m         \u001b[0;32mif\u001b[0m \u001b[0mioargs\u001b[0m\u001b[0;34m.\u001b[0m\u001b[0mencoding\u001b[0m \u001b[0;32mand\u001b[0m \u001b[0;34m\"b\"\u001b[0m \u001b[0;32mnot\u001b[0m \u001b[0;32min\u001b[0m \u001b[0mioargs\u001b[0m\u001b[0;34m.\u001b[0m\u001b[0mmode\u001b[0m\u001b[0;34m:\u001b[0m\u001b[0;34m\u001b[0m\u001b[0;34m\u001b[0m\u001b[0m\n\u001b[1;32m    872\u001b[0m             \u001b[0;31m# Encoding\u001b[0m\u001b[0;34m\u001b[0m\u001b[0;34m\u001b[0m\u001b[0m\n\u001b[0;32m--> 873\u001b[0;31m             handle = open(\n\u001b[0m\u001b[1;32m    874\u001b[0m                 \u001b[0mhandle\u001b[0m\u001b[0;34m,\u001b[0m\u001b[0;34m\u001b[0m\u001b[0;34m\u001b[0m\u001b[0m\n\u001b[1;32m    875\u001b[0m                 \u001b[0mioargs\u001b[0m\u001b[0;34m.\u001b[0m\u001b[0mmode\u001b[0m\u001b[0;34m,\u001b[0m\u001b[0;34m\u001b[0m\u001b[0;34m\u001b[0m\u001b[0m\n",
            "\u001b[0;31mFileNotFoundError\u001b[0m: [Errno 2] No such file or directory: 'students_scores.csv'"
          ]
        }
      ],
      "source": [
        "import numpy\n",
        "import pandas\n",
        "df=pandas.read_csv(\"students_scores.csv\")\n",
        "print(df)"
      ]
    },
    {
      "cell_type": "code",
      "execution_count": null,
      "id": "26e6be36",
      "metadata": {
        "id": "26e6be36"
      },
      "outputs": [],
      "source": [
        "# this is how you can approach question number 39\n",
        "# dont fear about std(standard deviation , just google it and you understand its simple, else you can connect for doubts)\n",
        "\n",
        "\n",
        "import pandas as pd\n",
        "import numpy as np\n",
        "\n",
        "# Load the dataset\n",
        "df = pd.read_csv(\"students_scores.csv\")\n",
        "\n",
        "# Extract math column as NumPy array\n",
        "math_scores = df[\"math\"].values\n",
        "\n",
        "# Compute z-scores\n",
        "z_scores = (math_scores - np.mean(math_scores)) / np.std(math_scores)\n",
        "\n",
        "# Print first 5 standardized values\n",
        "print(z_scores[:5])\n"
      ]
    },
    {
      "cell_type": "markdown",
      "id": "dc5f1055",
      "metadata": {
        "id": "dc5f1055"
      },
      "source": [
        "### Q40. Using NumPy logical operations, count how many students scored **≥ 70 in all three subjects** and print that count."
      ]
    },
    {
      "cell_type": "code",
      "execution_count": null,
      "id": "35f3e206",
      "metadata": {
        "id": "35f3e206"
      },
      "outputs": [],
      "source": [
        "import numpy\n"
      ]
    }
  ],
  "metadata": {
    "language_info": {
      "name": "python"
    },
    "colab": {
      "provenance": []
    },
    "kernelspec": {
      "name": "python3",
      "display_name": "Python 3"
    }
  },
  "nbformat": 4,
  "nbformat_minor": 5
}