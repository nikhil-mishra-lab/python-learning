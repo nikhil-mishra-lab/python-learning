{
  "cells": [
    {
      "cell_type": "markdown",
      "metadata": {
        "id": "3eW2BGeCnoFF"
      },
      "source": [
        "#  OOPS in Python Assignment\n",
        "\n",
        "Kindly Submit this assignment using this Google form link- https://forms.gle/4oedWNwR38Z8j1LeA\n",
        "\n",
        "\n"
      ]
    },
    {
      "cell_type": "markdown",
      "metadata": {
        "id": "-YeIqDCxnoFH"
      },
      "source": [
        "## Q1. Create a Simple Class\n",
        "\n",
        "Create a class named `Student` that stores the following information:\n",
        "- name\n",
        "- roll number\n",
        "\n",
        "Then, create one object of that class and print both attributes.\n",
        "\n",
        "**Hint:** Use `__init__` to initialize the attributes."
      ]
    },
    {
      "cell_type": "code",
      "metadata": {
        "id": "O2lkAu64noFH",
        "outputId": "82c8e420-3eb1-43ed-949f-5e8fa32edf04",
        "colab": {
          "base_uri": "https://localhost:8080/"
        }
      },
      "source": [
        "class name:\n",
        "  def __init__(self,name,roll_no):\n",
        "    self.name=name\n",
        "    self.roll_no=roll_no\n",
        "\n",
        "student1=name(\"ram\",101)\n",
        "print(student1.name)\n",
        "print(student1.roll_no)"
      ],
      "execution_count": 2,
      "outputs": [
        {
          "output_type": "stream",
          "name": "stdout",
          "text": [
            "ram\n",
            "101\n"
          ]
        }
      ]
    },
    {
      "cell_type": "markdown",
      "metadata": {
        "id": "8qtugqEInoFI"
      },
      "source": [
        "## Q2. Add a Method to a Class\n",
        "\n",
        "Extend your `Student` class to include a method named `display_info()` that prints the student's name and roll number in a proper sentence.\n",
        "\n",
        "**Goal:** Learn how to define methods inside a class."
      ]
    },
    {
      "cell_type": "code",
      "metadata": {
        "id": "a7QK5IBVnoFJ",
        "outputId": "efc97599-b014-452c-ae57-b147843d76e3",
        "colab": {
          "base_uri": "https://localhost:8080/"
        }
      },
      "source": [
        "class name:\n",
        "  def __init__(self,name,roll_no):\n",
        "    self.name=name\n",
        "    self.roll_no=roll_no\n",
        "\n",
        "  def display_info(self):\n",
        "    print(f\"student name is {self.name} and roll no is {self.roll_no}\")\n",
        "\n",
        "student1=name(\"ram\",101)\n",
        "student1.display_info()\n"
      ],
      "execution_count": 3,
      "outputs": [
        {
          "output_type": "stream",
          "name": "stdout",
          "text": [
            "student name is ram and roll no is 101\n"
          ]
        }
      ]
    },
    {
      "cell_type": "markdown",
      "metadata": {
        "id": "Hbxw2v30noFJ"
      },
      "source": [
        "## Q3. Employee Salary Class\n",
        "\n",
        "Create a class `Employee` that has:\n",
        "- `name` and `salary` attributes\n",
        "- a method `bonus()` that adds 10% bonus to the salary and prints the new salary.\n",
        "\n",
        "**Hint:** Bonus = `salary * 0.10`"
      ]
    },
    {
      "cell_type": "code",
      "metadata": {
        "id": "0hX7fLbEnoFJ",
        "outputId": "3c55edc6-3619-4213-c5ae-e86e68ab8363",
        "colab": {
          "base_uri": "https://localhost:8080/"
        }
      },
      "source": [
        "class name:\n",
        "  def __init__(self,name,salary):\n",
        "    self.name=name\n",
        "    self.salary=salary\n",
        "\n",
        "  def bonus(self):\n",
        "    bonus=self.salary*0.10\n",
        "\n",
        "employee1=name(\"ram\",10000)\n",
        "employee1.bonus()\n",
        "print(employee1.salary)\n",
        "\n"
      ],
      "execution_count": 7,
      "outputs": [
        {
          "output_type": "stream",
          "name": "stdout",
          "text": [
            "10000\n"
          ]
        }
      ]
    },
    {
      "cell_type": "markdown",
      "metadata": {
        "id": "se7-VekQnoFJ"
      },
      "source": [
        "## Q4. Encapsulation Example\n",
        "\n",
        "Create a class `BankAccount` with a private attribute `__balance`.\n",
        "- Create methods `deposit(amount)` and `get_balance()`.\n",
        "- Prevent direct access to `__balance`.\n",
        "\n",
        "**Hint:** Use double underscores (`__`) before variable name to make it private."
      ]
    },
    {
      "cell_type": "code",
      "metadata": {
        "id": "pqSvbQRRnoFK",
        "outputId": "ff60f94f-2587-45fe-e46f-bb3cda7b2427",
        "colab": {
          "base_uri": "https://localhost:8080/"
        }
      },
      "source": [
        "class bank:\n",
        "  def __init__(self,name,balance):\n",
        "    self.name=name\n",
        "    self.__balance=balance\n",
        "\n",
        "  def deposit(self,amount):\n",
        "    self.__balance+=amount\n",
        "\n",
        "  def get_balance(self):\n",
        "    return self.__balance\n",
        "\n",
        "bank1=bank(\"ram\",10000)\n",
        "bank1.deposit(1000)\n",
        "print(bank1.get_balance())"
      ],
      "execution_count": 8,
      "outputs": [
        {
          "output_type": "stream",
          "name": "stdout",
          "text": [
            "11000\n"
          ]
        }
      ]
    },
    {
      "cell_type": "markdown",
      "metadata": {
        "id": "Yuy41M52noFK"
      },
      "source": [
        "## Q5. Inheritance Example (Simple One)\n",
        "\n",
        "Create two classes:\n",
        "- `Person` → has attribute `name` and method `speak()` that prints \"Hello, I am [name]\"\n",
        "- `DataAnalyst` → inherits from `Person` and adds a new method `analyze()` that prints \"Analyzing data using Python...\"\n",
        "\n",
        "Then create an object of `DataAnalyst` and call both methods."
      ]
    },
    {
      "cell_type": "code",
      "metadata": {
        "id": "XASy1ru9noFK",
        "outputId": "b9afb61f-ad49-4b71-fcf6-8d7d8e4389dd",
        "colab": {
          "base_uri": "https://localhost:8080/"
        }
      },
      "source": [
        "class person:\n",
        "  def __init__(self,name):\n",
        "    self.name=name\n",
        "\n",
        "  def speak(self):\n",
        "    print(f\"hello i am {self.name}\")\n",
        "\n",
        "class dataanalyst(person):\n",
        "  def __init__(self,name):\n",
        "    super().__init__(name)\n",
        "\n",
        "  def analyze(self):\n",
        "    print(\"analyzing data using python\")\n",
        "\n",
        "dataanalyst1=dataanalyst(\"ram\")\n",
        "dataanalyst1.speak()"
      ],
      "execution_count": 10,
      "outputs": [
        {
          "output_type": "stream",
          "name": "stdout",
          "text": [
            "hello i am ram\n"
          ]
        }
      ]
    },
    {
      "cell_type": "markdown",
      "metadata": {
        "id": "1eYZ6i1SnoFK"
      },
      "source": [
        "## Q6. (Medium Level) Real-Life Problem — Product Sales Tracker\n",
        "\n",
        "You are working as a **Data Analyst** in a retail company.\n",
        "Create a class `Product` with attributes:\n",
        "- `name`\n",
        "- `price`\n",
        "- `quantity`\n",
        "\n",
        "Add the following methods:\n",
        "- `total_value()` → returns total value of product (price × quantity)\n",
        "- `apply_discount(percent)` → reduces the price by given percent.\n",
        "\n",
        "Finally, create two product objects and print their total values **before and after discount.**"
      ]
    },
    {
      "cell_type": "code",
      "metadata": {
        "id": "e_KbiMG6noFK",
        "outputId": "2a6dcaff-0aba-4a42-e4d4-a5237a0c3fdd",
        "colab": {
          "base_uri": "https://localhost:8080/"
        }
      },
      "source": [
        "class name:\n",
        "  def __init__(self,name,price,quantity):\n",
        "    self.name=name\n",
        "    self.price=price\n",
        "    self.quantity=quantity\n",
        "\n",
        "  def total_value(self):\n",
        "    return self.price*self.quantity\n",
        "\n",
        "  def apply_discount(self,percent):\n",
        "    self.price-=(self.price*percent)/100\n",
        "\n",
        "product1=name(\"tv\",100,2)\n",
        "product2=name(\"mobile\",200,3)\n",
        "print(product1.total_value())\n",
        "print(product2.total_value())"
      ],
      "execution_count": 11,
      "outputs": [
        {
          "output_type": "stream",
          "name": "stdout",
          "text": [
            "200\n",
            "600\n"
          ]
        }
      ]
    },
    {
      "cell_type": "markdown",
      "metadata": {
        "id": "FFjJ0An4noFK"
      },
      "source": [
        "\n",
        "\n",
        "##_Remember: Practice builds clarity._"
      ]
    }
  ],
  "metadata": {
    "kernelspec": {
      "display_name": "Python 3",
      "language": "python",
      "name": "python3"
    },
    "language_info": {
      "name": "python",
      "version": "3.10"
    },
    "colab": {
      "provenance": []
    }
  },
  "nbformat": 4,
  "nbformat_minor": 0
}