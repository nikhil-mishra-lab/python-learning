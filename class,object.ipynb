{
  "nbformat": 4,
  "nbformat_minor": 0,
  "metadata": {
    "colab": {
      "provenance": []
    },
    "kernelspec": {
      "name": "python3",
      "display_name": "Python 3"
    },
    "language_info": {
      "name": "python"
    }
  },
  "cells": [
    {
      "cell_type": "code",
      "source": [
        "# create class\n",
        "class batch6():\n",
        "  print(123)\n",
        "\n",
        "  class batch7():\n",
        "    print(456)"
      ],
      "metadata": {
        "colab": {
          "base_uri": "https://localhost:8080/"
        },
        "id": "pGJGDSN3xrQt",
        "outputId": "a442b454-3818-4550-f273-341ac484bdec"
      },
      "execution_count": null,
      "outputs": [
        {
          "output_type": "stream",
          "name": "stdout",
          "text": [
            "123\n",
            "456\n"
          ]
        }
      ]
    },
    {
      "cell_type": "code",
      "source": [
        "class Batch_six():\n",
        "  def __str_(self):\n",
        "    return f\"hello\"\n",
        "aman=Batch_six()\n",
        "print(aman)"
      ],
      "metadata": {
        "colab": {
          "base_uri": "https://localhost:8080/"
        },
        "id": "pn1a8UDZ1Snw",
        "outputId": "6f866288-9ccb-47e2-ca47-7f2ae47b9ce8"
      },
      "execution_count": null,
      "outputs": [
        {
          "output_type": "stream",
          "name": "stdout",
          "text": [
            "<__main__.Batch_six object at 0x7e296c76e960>\n"
          ]
        }
      ]
    },
    {
      "cell_type": "code",
      "source": [
        "class Batchseven():\n",
        "  def __init__(self,name,age):\n",
        "    self.name=name\n",
        "    self.age=age\n",
        "\n",
        "    def __str__(self):# def wish(self),def holiday(self)\n",
        "         return f\"{self.age} your dewali vecation start on 10\"\n",
        "\n",
        "student1=Batchseven(\"aman\",21)\n",
        "student2=Batchseven(\"mohan\",21)\n",
        "print(student1)"
      ],
      "metadata": {
        "colab": {
          "base_uri": "https://localhost:8080/"
        },
        "id": "jvsbAzVL1Wvm",
        "outputId": "8e92f361-6eff-465f-87f8-0d88ea1ab09f"
      },
      "execution_count": null,
      "outputs": [
        {
          "output_type": "stream",
          "name": "stdout",
          "text": [
            "<__main__.Batchseven object at 0x7e296b26f650>\n"
          ]
        }
      ]
    },
    {
      "cell_type": "code",
      "source": [
        "class Dog:\n",
        "  species = \"Canis familiaris\"\n",
        "  def __init__(self, name, age):\n",
        "    self.name = name\n",
        "    self.age = age\n",
        "miles=Dog(\"miles\",4)\n",
        "buddy=Dog(\"buddy\",10)\n",
        "jack=Dog(\"jack\",3)\n",
        "print(miles.name)\n",
        "print(buddy.name)\n",
        "print(jack.name)\n",
        "\n",
        "\n",
        "\n",
        "\n"
      ],
      "metadata": {
        "colab": {
          "base_uri": "https://localhost:8080/"
        },
        "id": "p6717goa9Vb9",
        "outputId": "be59d2e7-af1d-4cdf-de15-0595d6e98305"
      },
      "execution_count": null,
      "outputs": [
        {
          "output_type": "stream",
          "name": "stdout",
          "text": [
            "miles\n",
            "buddy\n",
            "jack\n"
          ]
        }
      ]
    },
    {
      "cell_type": "code",
      "source": [
        "class dog:\n",
        "  species=\"canis familiaris\"\n",
        "  def __init__(self,name,age):\n",
        "    self.name=name\n",
        "    self.age=age\n",
        "  def description(self):\n",
        "    return f\"{self.name} is {self.age} years old\"\n",
        "  def speak(self,sound):\n",
        "    return f\"{self.name} says {sound}\"\n",
        "miles=dog(\"miles\",4)\n",
        "miles.speak(\"woof woof\")\n",
        "miles.speak(\"bow bow\")"
      ],
      "metadata": {
        "colab": {
          "base_uri": "https://localhost:8080/",
          "height": 36
        },
        "id": "0fsk9RINHCgZ",
        "outputId": "14d1c5d8-1fec-46c1-8afc-dbf796da808f"
      },
      "execution_count": null,
      "outputs": [
        {
          "output_type": "execute_result",
          "data": {
            "text/plain": [
              "'miles says bow bow'"
            ],
            "application/vnd.google.colaboratory.intrinsic+json": {
              "type": "string"
            }
          },
          "metadata": {},
          "execution_count": 45
        }
      ]
    },
    {
      "cell_type": "code",
      "source": [
        "class parent:\n",
        "  hair_color=\"brown\"\n",
        "\n",
        "\n",
        "\n",
        "class child(parent):\n",
        "  hair_color=\"black\"\n",
        "\n",
        "\n",
        "son=child()\n",
        "\n",
        "son.hair_color"
      ],
      "metadata": {
        "colab": {
          "base_uri": "https://localhost:8080/",
          "height": 36
        },
        "id": "0OmHFNORKXPU",
        "outputId": "ca32e764-eba3-4ddc-cfe8-c418c2725ec7"
      },
      "execution_count": null,
      "outputs": [
        {
          "output_type": "execute_result",
          "data": {
            "text/plain": [
              "'black'"
            ],
            "application/vnd.google.colaboratory.intrinsic+json": {
              "type": "string"
            }
          },
          "metadata": {},
          "execution_count": 58
        }
      ]
    },
    {
      "cell_type": "code",
      "source": [
        "class parent():\n",
        "  propert=\"100cores\"\n",
        "\n",
        "class child(parent):\n",
        "  property=\"1lakh\"\n",
        "\n",
        "son=child()\n",
        "son.propert\n"
      ],
      "metadata": {
        "colab": {
          "base_uri": "https://localhost:8080/",
          "height": 36
        },
        "id": "vo9tkhZiM2SH",
        "outputId": "bcaf8263-c40e-4aaf-a35c-adbf67ae0b0f"
      },
      "execution_count": null,
      "outputs": [
        {
          "output_type": "execute_result",
          "data": {
            "text/plain": [
              "'100cores'"
            ],
            "application/vnd.google.colaboratory.intrinsic+json": {
              "type": "string"
            }
          },
          "metadata": {},
          "execution_count": 59
        }
      ]
    }
  ]
}