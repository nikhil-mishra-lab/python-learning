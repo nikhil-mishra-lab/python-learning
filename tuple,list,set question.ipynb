{
  "cells": [
    {
      "cell_type": "markdown",
      "id": "8pRf9jW4fyVP",
      "metadata": {
        "id": "8pRf9jW4fyVP"
      },
      "source": [
        "# Lists, Tuples, and Sets : Practice Assignment\n",
        "\n",
        "### Dear students these question will help you build a very strong foundation on data structures specificaly as data analyst\n",
        "\n",
        "Each problem has:\n",
        "- **Problem statement**\n",
        "- **What the expected answer should look like** (an example of the final result/state)\n",
        "- An **empty code cell** for you to solve it (look for `# write your code here`).\n",
        "\n",
        "> Tip: Run cells independently."
      ]
    },
    {
      "cell_type": "markdown",
      "id": "dIbr5ZfofyVS",
      "metadata": {
        "id": "dIbr5ZfofyVS"
      },
      "source": [
        "### List Q1\n",
        "\n",
        "**Problem:** Write a program to retrieve the value 4 from the list `my_list = [[1, 2], [3, 4], [5, 6]]` using indexing.\n",
        "\n",
        "**Expected answer should look like (example):**\n",
        "```\n",
        "4\n",
        "```"
      ]
    },
    {
      "cell_type": "code",
      "execution_count": null,
      "id": "qKpIQgUPfyVS",
      "metadata": {
        "id": "qKpIQgUPfyVS"
      },
      "outputs": [],
      "source": [
        "# write your code here"
      ]
    },
    {
      "cell_type": "markdown",
      "id": "qErZqUJvfyVT",
      "metadata": {
        "id": "qErZqUJvfyVT"
      },
      "source": [
        "### List Q2\n",
        "\n",
        "**Problem:** Write a program to reverse the list `[10, 20, 30, 40, 50]` using slicing and explain how the slicing parameters achieve the result.\n",
        "\n",
        "**Expected answer should look like (example):**\n",
        "```\n",
        "[50, 40, 30, 20, 10]  # slicing: lst[::-1] (start:end:step=-1)\n",
        "```"
      ]
    },
    {
      "cell_type": "code",
      "execution_count": null,
      "id": "Xb_G2R0GfyVT",
      "metadata": {
        "id": "Xb_G2R0GfyVT"
      },
      "outputs": [],
      "source": [
        "# write your code here"
      ]
    },
    {
      "cell_type": "markdown",
      "id": "wk0JTcZgfyVU",
      "metadata": {
        "id": "wk0JTcZgfyVU"
      },
      "source": [
        "### List Q3\n",
        "\n",
        "**Problem:** Write a program to extract every second element from the list `[1, 2, 3, 4, 5, 6, 7, 8]` using slicing.\n",
        "\n",
        "**Expected answer should look like (example):**\n",
        "```\n",
        "[2, 4, 6, 8]\n",
        "```"
      ]
    },
    {
      "cell_type": "code",
      "execution_count": null,
      "id": "yRA2C-H5fyVU",
      "metadata": {
        "id": "yRA2C-H5fyVU"
      },
      "outputs": [],
      "source": [
        "# write your code here"
      ]
    },
    {
      "cell_type": "markdown",
      "id": "oK9W1WZBfyVU",
      "metadata": {
        "id": "oK9W1WZBfyVU"
      },
      "source": [
        "### List Q4\n",
        "\n",
        "**Problem:** Write a program to replace the middle two elements of the list `[10, 20, 30, 40, 50]` with `[99, 100, 101]` using slicing.\n",
        "\n",
        "**Expected answer should look like (example):**\n",
        "```\n",
        "[10, 20, 99, 100, 101, 50]\n",
        "```"
      ]
    },
    {
      "cell_type": "code",
      "execution_count": null,
      "id": "uB4t-1-FfyVU",
      "metadata": {
        "id": "uB4t-1-FfyVU"
      },
      "outputs": [],
      "source": [
        "# write your code here"
      ]
    },
    {
      "cell_type": "markdown",
      "id": "mOp9HBHafyVU",
      "metadata": {
        "id": "mOp9HBHafyVU"
      },
      "source": [
        "### List Q5\n",
        "\n",
        "**Problem:** Write a program to transform the list `[1, 2, 3, 4, 5]` into `[1, 99, 100, 101, 4, 5]` by modifying a slice.\n",
        "\n",
        "**Expected answer should look like (example):**\n",
        "```\n",
        "[1, 99, 100, 101, 4, 5]\n",
        "```"
      ]
    },
    {
      "cell_type": "code",
      "execution_count": null,
      "id": "STvMWW5GfyVV",
      "metadata": {
        "id": "STvMWW5GfyVV"
      },
      "outputs": [],
      "source": [
        "# write your code here"
      ]
    },
    {
      "cell_type": "markdown",
      "id": "YboV54EpfyVV",
      "metadata": {
        "id": "YboV54EpfyVV"
      },
      "source": [
        "### List Q6\n",
        "\n",
        "**Problem:** Write a program to concatenate two lists without using the `+` operator.\n",
        "\n",
        "**Expected answer should look like (example):**\n",
        "```\n",
        "[...concatenated items...]  # e.g., via unpacking or extend\n",
        "```"
      ]
    },
    {
      "cell_type": "code",
      "execution_count": null,
      "id": "qEzZVAuGfyVV",
      "metadata": {
        "id": "qEzZVAuGfyVV"
      },
      "outputs": [],
      "source": [
        "# write your code here"
      ]
    },
    {
      "cell_type": "markdown",
      "id": "aiMDaI-CfyVV",
      "metadata": {
        "id": "aiMDaI-CfyVV"
      },
      "source": [
        "### List Q7\n",
        "\n",
        "**Problem:** Write a program to demonstrate how the `extend` method behaves if the argument is a string using `my_list = [1, 2, 3]`.\n",
        "\n",
        "**Expected answer should look like (example):**\n",
        "```\n",
        "[1, 2, 3, 'a', 'b', 'c']  # e.g., my_list.extend('abc') adds each char\n",
        "```"
      ]
    },
    {
      "cell_type": "code",
      "execution_count": null,
      "id": "xYcujVcnfyVV",
      "metadata": {
        "id": "xYcujVcnfyVV"
      },
      "outputs": [],
      "source": [
        "# write your code here"
      ]
    },
    {
      "cell_type": "markdown",
      "id": "jDPtjjYrfyVV",
      "metadata": {
        "id": "jDPtjjYrfyVV"
      },
      "source": [
        "### List Q8\n",
        "\n",
        "**Problem:** Write a program that uses `extend` to merge two lists in such a way that duplicates from the second list are not added.\n",
        "\n",
        "**Expected answer should look like (example):**\n",
        "```\n",
        "[merged_unique_list]  # second list's items only if not already present\n",
        "```"
      ]
    },
    {
      "cell_type": "code",
      "execution_count": null,
      "id": "MDSsR4YdfyVV",
      "metadata": {
        "id": "MDSsR4YdfyVV"
      },
      "outputs": [],
      "source": [
        "# write your code here"
      ]
    },
    {
      "cell_type": "markdown",
      "id": "bnFHf3nKfyVV",
      "metadata": {
        "id": "bnFHf3nKfyVV"
      },
      "source": [
        "### List Q9\n",
        "\n",
        "**Problem:** Write a program to create a list of 100 zeros using repetition and then replace every 10th element with 1.\n",
        "\n",
        "**Expected answer should look like (example):**\n",
        "```\n",
        "[1 appears at indices 9,19,29,...]\n",
        "```"
      ]
    },
    {
      "cell_type": "code",
      "execution_count": null,
      "id": "TnQW2Z11fyVV",
      "metadata": {
        "id": "TnQW2Z11fyVV"
      },
      "outputs": [],
      "source": [
        "# write your code here"
      ]
    },
    {
      "cell_type": "markdown",
      "id": "g2UP8pXGfyVW",
      "metadata": {
        "id": "g2UP8pXGfyVW"
      },
      "source": [
        "### List Q10\n",
        "\n",
        "**Problem:** Write a Python command without using a loop to check if **all** the elements of `[2, 4]` are present in the list `[1, 2, 3, 4, 5]`.\n",
        "\n",
        "**Expected answer should look like (example):**\n",
        "```\n",
        "True  # e.g., set([2,4]).issubset([1,2,3,4,5])\n",
        "```"
      ]
    },
    {
      "cell_type": "code",
      "execution_count": null,
      "id": "R8-l25c4fyVW",
      "metadata": {
        "id": "R8-l25c4fyVW"
      },
      "outputs": [],
      "source": [
        "# write your code here"
      ]
    },
    {
      "cell_type": "markdown",
      "id": "aWvONtsUfyVW",
      "metadata": {
        "id": "aWvONtsUfyVW"
      },
      "source": [
        "### List Q11\n",
        "\n",
        "**Problem:** Write a program to use `not in` to filter out all the elements of a list that exist in another list, e.g., removing elements in `[2, 4]` from `[1, 2, 3, 4, 5]`.\n",
        "\n",
        "**Expected answer should look like (example):**\n",
        "```\n",
        "[1, 3, 5]\n",
        "```"
      ]
    },
    {
      "cell_type": "code",
      "execution_count": null,
      "id": "5RM0kWVufyVW",
      "metadata": {
        "id": "5RM0kWVufyVW"
      },
      "outputs": [],
      "source": [
        "# write your code here"
      ]
    },
    {
      "cell_type": "markdown",
      "id": "gFcNPkVMfyVW",
      "metadata": {
        "id": "gFcNPkVMfyVW"
      },
      "source": [
        "### List Q12\n",
        "\n",
        "**Problem:** Create a list of integers from 1 to 10.\n",
        "\n",
        "**Expected answer should look like (example):**\n",
        "```\n",
        "[1, 2, 3, 4, 5, 6, 7, 8, 9, 10]\n",
        "```"
      ]
    },
    {
      "cell_type": "code",
      "execution_count": null,
      "id": "OMf9DKBffyVW",
      "metadata": {
        "id": "OMf9DKBffyVW"
      },
      "outputs": [],
      "source": [
        "# write your code here"
      ]
    },
    {
      "cell_type": "markdown",
      "id": "qLAAloubfyVW",
      "metadata": {
        "id": "qLAAloubfyVW"
      },
      "source": [
        "### List Q13\n",
        "\n",
        "**Problem:** Add an element to the end of a list using `append()`.\n",
        "\n",
        "**Expected answer should look like (example):**\n",
        "```\n",
        "[...original..., 99]\n",
        "```"
      ]
    },
    {
      "cell_type": "code",
      "execution_count": null,
      "id": "JAEwIYJUfyVW",
      "metadata": {
        "id": "JAEwIYJUfyVW"
      },
      "outputs": [],
      "source": [
        "# write your code here"
      ]
    },
    {
      "cell_type": "markdown",
      "id": "7FZcvrd6fyVW",
      "metadata": {
        "id": "7FZcvrd6fyVW"
      },
      "source": [
        "### List Q14\n",
        "\n",
        "**Problem:** Insert an element at the second position in a list.\n",
        "\n",
        "**Expected answer should look like (example):**\n",
        "```\n",
        "[first, NEW, rest...]\n",
        "```"
      ]
    },
    {
      "cell_type": "code",
      "execution_count": null,
      "id": "xSlSO0mOfyVW",
      "metadata": {
        "id": "xSlSO0mOfyVW"
      },
      "outputs": [],
      "source": [
        "# write your code here"
      ]
    },
    {
      "cell_type": "markdown",
      "id": "lvazvs0efyVW",
      "metadata": {
        "id": "lvazvs0efyVW"
      },
      "source": [
        "### List Q15\n",
        "\n",
        "**Problem:** Remove an element from a list using `remove()`.\n",
        "\n",
        "**Expected answer should look like (example):**\n",
        "```\n",
        "[list without that value]\n",
        "```"
      ]
    },
    {
      "cell_type": "code",
      "execution_count": null,
      "id": "IWI8ZjrPfyVW",
      "metadata": {
        "id": "IWI8ZjrPfyVW"
      },
      "outputs": [],
      "source": [
        "# write your code here"
      ]
    },
    {
      "cell_type": "markdown",
      "id": "Se9S-xEmfyVW",
      "metadata": {
        "id": "Se9S-xEmfyVW"
      },
      "source": [
        "### List Q16\n",
        "\n",
        "**Problem:** Remove and return the last element of a list using `pop()`.\n",
        "\n",
        "**Expected answer should look like (example):**\n",
        "```\n",
        "popped_value  # and list becomes [..., without last]\n",
        "```"
      ]
    },
    {
      "cell_type": "code",
      "execution_count": null,
      "id": "WHUV0hJefyVW",
      "metadata": {
        "id": "WHUV0hJefyVW"
      },
      "outputs": [],
      "source": [
        "# write your code here"
      ]
    },
    {
      "cell_type": "markdown",
      "id": "Cdiq_m0ufyVX",
      "metadata": {
        "id": "Cdiq_m0ufyVX"
      },
      "source": [
        "### List Q17\n",
        "\n",
        "**Problem:** Find the length of a list **without** using the `len()` function.\n",
        "\n",
        "**Expected answer should look like (example):**\n",
        "```\n",
        "10  # manual count with loop\n",
        "```"
      ]
    },
    {
      "cell_type": "code",
      "execution_count": null,
      "id": "zDB8NF_XfyVX",
      "metadata": {
        "id": "zDB8NF_XfyVX"
      },
      "outputs": [],
      "source": [
        "# write your code here"
      ]
    },
    {
      "cell_type": "markdown",
      "id": "PJjb0FSafyVX",
      "metadata": {
        "id": "PJjb0FSafyVX"
      },
      "source": [
        "### List Q18\n",
        "\n",
        "**Problem:** Slice a list to get the first 5 elements.\n",
        "\n",
        "**Expected answer should look like (example):**\n",
        "```\n",
        "lst[:5] -> first five elements\n",
        "```"
      ]
    },
    {
      "cell_type": "code",
      "execution_count": null,
      "id": "Hgf3_8IcfyVX",
      "metadata": {
        "id": "Hgf3_8IcfyVX"
      },
      "outputs": [],
      "source": [
        "# write your code here"
      ]
    },
    {
      "cell_type": "markdown",
      "id": "vy6IHVyxfyVX",
      "metadata": {
        "id": "vy6IHVyxfyVX"
      },
      "source": [
        "### List Q19\n",
        "\n",
        "**Problem:** Reverse a list using slicing.\n",
        "\n",
        "**Expected answer should look like (example):**\n",
        "```\n",
        "reversed_list  # lst[::-1]\n",
        "```"
      ]
    },
    {
      "cell_type": "code",
      "execution_count": null,
      "id": "-GzdbhQzfyVX",
      "metadata": {
        "id": "-GzdbhQzfyVX"
      },
      "outputs": [],
      "source": [
        "# write your code here"
      ]
    },
    {
      "cell_type": "markdown",
      "id": "HrmHD5tHfyVb",
      "metadata": {
        "id": "HrmHD5tHfyVb"
      },
      "source": [
        "### List Q20\n",
        "\n",
        "**Problem:** Check if an element exists in a list using `in`.\n",
        "\n",
        "**Expected answer should look like (example):**\n",
        "```\n",
        "True/False\n",
        "```"
      ]
    },
    {
      "cell_type": "code",
      "execution_count": null,
      "id": "j83Skl7sfyVb",
      "metadata": {
        "id": "j83Skl7sfyVb"
      },
      "outputs": [],
      "source": [
        "# write your code here"
      ]
    },
    {
      "cell_type": "markdown",
      "id": "K51fd9txfyVb",
      "metadata": {
        "id": "K51fd9txfyVb"
      },
      "source": [
        "### List Q21\n",
        "\n",
        "**Problem:** Concatenate two lists using the `+` operator.\n",
        "\n",
        "**Expected answer should look like (example):**\n",
        "```\n",
        "[combined elements]\n",
        "```"
      ]
    },
    {
      "cell_type": "code",
      "execution_count": null,
      "id": "VjBkHE1WfyVb",
      "metadata": {
        "id": "VjBkHE1WfyVb"
      },
      "outputs": [],
      "source": [
        "# write your code here"
      ]
    },
    {
      "cell_type": "markdown",
      "id": "UrDqHcRPfyVb",
      "metadata": {
        "id": "UrDqHcRPfyVb"
      },
      "source": [
        "### List Q22\n",
        "\n",
        "**Problem:** Find the sum of all elements in a list.\n",
        "\n",
        "**Expected answer should look like (example):**\n",
        "```\n",
        "numeric_sum\n",
        "```"
      ]
    },
    {
      "cell_type": "code",
      "execution_count": null,
      "id": "ngMHgBd_fyVb",
      "metadata": {
        "id": "ngMHgBd_fyVb"
      },
      "outputs": [],
      "source": [
        "# write your code here"
      ]
    },
    {
      "cell_type": "markdown",
      "id": "wSQRcLcNfyVb",
      "metadata": {
        "id": "wSQRcLcNfyVb"
      },
      "source": [
        "### List Q23\n",
        "\n",
        "**Problem:** Use list comprehension to generate a list of odd numbers from 1 to 10.\n",
        "\n",
        "**Expected answer should look like (example):**\n",
        "```\n",
        "[1, 3, 5, 7, 9]\n",
        "```"
      ]
    },
    {
      "cell_type": "code",
      "execution_count": null,
      "id": "6aBwuaj2fyVc",
      "metadata": {
        "id": "6aBwuaj2fyVc"
      },
      "outputs": [],
      "source": [
        "# write your code here"
      ]
    },
    {
      "cell_type": "markdown",
      "id": "IQEJlGtWfyVc",
      "metadata": {
        "id": "IQEJlGtWfyVc"
      },
      "source": [
        "### List Q24\n",
        "\n",
        "**Problem:** Convert a list with duplicate elements into a set to remove duplicates.\n",
        "\n",
        "**Expected answer should look like (example):**\n",
        "```\n",
        "{unique_elements}\n",
        "```"
      ]
    },
    {
      "cell_type": "code",
      "execution_count": null,
      "id": "2L_StV1tfyVc",
      "metadata": {
        "id": "2L_StV1tfyVc"
      },
      "outputs": [],
      "source": [
        "# write your code here"
      ]
    },
    {
      "cell_type": "markdown",
      "id": "EELV4nHgfyVc",
      "metadata": {
        "id": "EELV4nHgfyVc"
      },
      "source": [
        "### List Q25\n",
        "\n",
        "**Problem:** Convert a string to a list of its characters.\n",
        "\n",
        "**Expected answer should look like (example):**\n",
        "```\n",
        "['h','e','l','l','o']\n",
        "```"
      ]
    },
    {
      "cell_type": "code",
      "execution_count": null,
      "id": "RtuvzGP7fyVc",
      "metadata": {
        "id": "RtuvzGP7fyVc"
      },
      "outputs": [],
      "source": [
        "# write your code here"
      ]
    },
    {
      "cell_type": "markdown",
      "id": "7h2II8C9fyVc",
      "metadata": {
        "id": "7h2II8C9fyVc"
      },
      "source": [
        "### List Q26\n",
        "\n",
        "**Problem:** Multiply all items in a list using a loop.\n",
        "\n",
        "**Expected answer should look like (example):**\n",
        "```\n",
        "product_value\n",
        "```"
      ]
    },
    {
      "cell_type": "code",
      "execution_count": null,
      "id": "JvKxVBchfyVc",
      "metadata": {
        "id": "JvKxVBchfyVc"
      },
      "outputs": [],
      "source": [
        "# write your code here"
      ]
    },
    {
      "cell_type": "markdown",
      "id": "Na-zJ1YdfyVc",
      "metadata": {
        "id": "Na-zJ1YdfyVc"
      },
      "source": [
        "### List Q27\n",
        "\n",
        "**Problem:** Sort a list of numbers in ascending order.\n",
        "\n",
        "**Expected answer should look like (example):**\n",
        "```\n",
        "[sorted numbers asc]\n",
        "```"
      ]
    },
    {
      "cell_type": "code",
      "execution_count": null,
      "id": "DFe5IEEAfyVc",
      "metadata": {
        "id": "DFe5IEEAfyVc"
      },
      "outputs": [],
      "source": [
        "# write your code here"
      ]
    },
    {
      "cell_type": "markdown",
      "id": "qZW5tg5rfyVc",
      "metadata": {
        "id": "qZW5tg5rfyVc"
      },
      "source": [
        "### List Q28\n",
        "\n",
        "**Problem:** Clear all elements from a list using `clear()`.\n",
        "\n",
        "**Expected answer should look like (example):**\n",
        "```\n",
        "[]\n",
        "```"
      ]
    },
    {
      "cell_type": "code",
      "execution_count": null,
      "id": "jso3gUtvfyVc",
      "metadata": {
        "id": "jso3gUtvfyVc"
      },
      "outputs": [],
      "source": [
        "# write your code here"
      ]
    },
    {
      "cell_type": "markdown",
      "id": "G751txAVfyVc",
      "metadata": {
        "id": "G751txAVfyVc"
      },
      "source": [
        "### List Q29\n",
        "\n",
        "**Problem:** Use a `while` loop to iterate through a list.\n",
        "\n",
        "**Expected answer should look like (example):**\n",
        "```\n",
        "each element printed/processed\n",
        "```"
      ]
    },
    {
      "cell_type": "code",
      "execution_count": null,
      "id": "VVnSkIvPfyVd",
      "metadata": {
        "id": "VVnSkIvPfyVd"
      },
      "outputs": [],
      "source": [
        "# write your code here"
      ]
    },
    {
      "cell_type": "markdown",
      "id": "cduQw_jHfyVd",
      "metadata": {
        "id": "cduQw_jHfyVd"
      },
      "source": [
        "### List Q30\n",
        "\n",
        "**Problem:** Use a `for` loop with `enumerate()` to print index and value.\n",
        "\n",
        "**Expected answer should look like (example):**\n",
        "```\n",
        "index: value\n",
        "```"
      ]
    },
    {
      "cell_type": "code",
      "execution_count": null,
      "id": "oeZBqKEOfyVd",
      "metadata": {
        "id": "oeZBqKEOfyVd"
      },
      "outputs": [],
      "source": [
        "# write your code here"
      ]
    },
    {
      "cell_type": "markdown",
      "id": "zFd9UtnbfyVd",
      "metadata": {
        "id": "zFd9UtnbfyVd"
      },
      "source": [
        "### List Q31\n",
        "\n",
        "**Problem:** Find the index of an element in a list using `index()`.\n",
        "\n",
        "**Expected answer should look like (example):**\n",
        "```\n",
        "integer_index\n",
        "```"
      ]
    },
    {
      "cell_type": "code",
      "execution_count": null,
      "id": "cPlSAo-8fyVd",
      "metadata": {
        "id": "cPlSAo-8fyVd"
      },
      "outputs": [],
      "source": [
        "# write your code here"
      ]
    },
    {
      "cell_type": "markdown",
      "id": "gbu56yUMfyVd",
      "metadata": {
        "id": "gbu56yUMfyVd"
      },
      "source": [
        "### Tuples Q1\n",
        "\n",
        "**Problem:** Create a tuple with elements from 1 to 5.\n",
        "\n",
        "**Expected answer should look like (example):**\n",
        "```\n",
        "(1, 2, 3, 4, 5)\n",
        "```"
      ]
    },
    {
      "cell_type": "code",
      "execution_count": null,
      "id": "eO6CeCapfyVd",
      "metadata": {
        "id": "eO6CeCapfyVd"
      },
      "outputs": [],
      "source": [
        "# write your code here"
      ]
    },
    {
      "cell_type": "markdown",
      "id": "bL2uXcsyfyVd",
      "metadata": {
        "id": "bL2uXcsyfyVd"
      },
      "source": [
        "### Tuples Q2\n",
        "\n",
        "**Problem:** Access the third element in a tuple.\n",
        "\n",
        "**Expected answer should look like (example):**\n",
        "```\n",
        "value_at_index_2\n",
        "```"
      ]
    },
    {
      "cell_type": "code",
      "execution_count": null,
      "id": "CcmxEwb5fyVd",
      "metadata": {
        "id": "CcmxEwb5fyVd"
      },
      "outputs": [],
      "source": [
        "# write your code here"
      ]
    },
    {
      "cell_type": "markdown",
      "id": "yVfJnjdIfyVd",
      "metadata": {
        "id": "yVfJnjdIfyVd"
      },
      "source": [
        "### Tuples Q3\n",
        "\n",
        "**Problem:** Slice a tuple to get the last 3 elements.\n",
        "\n",
        "**Expected answer should look like (example):**\n",
        "```\n",
        "(last3,)\n",
        "```"
      ]
    },
    {
      "cell_type": "code",
      "execution_count": null,
      "id": "_Flfm1X0fyVd",
      "metadata": {
        "id": "_Flfm1X0fyVd"
      },
      "outputs": [],
      "source": [
        "# write your code here"
      ]
    },
    {
      "cell_type": "markdown",
      "id": "qWC68fe8fyVd",
      "metadata": {
        "id": "qWC68fe8fyVd"
      },
      "source": [
        "### Tuples Q4\n",
        "\n",
        "**Problem:** Check if an element exists in a tuple using `in`.\n",
        "\n",
        "**Expected answer should look like (example):**\n",
        "```\n",
        "True/False\n",
        "```"
      ]
    },
    {
      "cell_type": "code",
      "execution_count": null,
      "id": "LBZY1QqbfyVd",
      "metadata": {
        "id": "LBZY1QqbfyVd"
      },
      "outputs": [],
      "source": [
        "# write your code here"
      ]
    },
    {
      "cell_type": "markdown",
      "id": "MHDJ8V3pfyVe",
      "metadata": {
        "id": "MHDJ8V3pfyVe"
      },
      "source": [
        "### Tuples Q5\n",
        "\n",
        "**Problem:** Find the index of an element in a tuple.\n",
        "\n",
        "**Expected answer should look like (example):**\n",
        "```\n",
        "integer_index\n",
        "```"
      ]
    },
    {
      "cell_type": "code",
      "execution_count": null,
      "id": "lIuu_klOfyVe",
      "metadata": {
        "id": "lIuu_klOfyVe"
      },
      "outputs": [],
      "source": [
        "# write your code here"
      ]
    },
    {
      "cell_type": "markdown",
      "id": "qdDgmuL3fyVe",
      "metadata": {
        "id": "qdDgmuL3fyVe"
      },
      "source": [
        "### Tuples Q6\n",
        "\n",
        "**Problem:** Count the occurrences of an element in a tuple.\n",
        "\n",
        "**Expected answer should look like (example):**\n",
        "```\n",
        "count_value\n",
        "```"
      ]
    },
    {
      "cell_type": "code",
      "execution_count": null,
      "id": "ZKBvIlJzfyVe",
      "metadata": {
        "id": "ZKBvIlJzfyVe"
      },
      "outputs": [],
      "source": [
        "# write your code here"
      ]
    },
    {
      "cell_type": "markdown",
      "id": "FphgWkIKfyVe",
      "metadata": {
        "id": "FphgWkIKfyVe"
      },
      "source": [
        "### Tuples Q7\n",
        "\n",
        "**Problem:** Create a nested tuple and access an element from it.\n",
        "\n",
        "**Expected answer should look like (example):**\n",
        "```\n",
        "nested_value\n",
        "```"
      ]
    },
    {
      "cell_type": "code",
      "execution_count": null,
      "id": "HnvdVBUNfyVe",
      "metadata": {
        "id": "HnvdVBUNfyVe"
      },
      "outputs": [],
      "source": [
        "# write your code here"
      ]
    },
    {
      "cell_type": "markdown",
      "id": "cJGrrJa3fyVe",
      "metadata": {
        "id": "cJGrrJa3fyVe"
      },
      "source": [
        "### Tuples Q8\n",
        "\n",
        "**Problem:** Check if two tuples are equal.\n",
        "\n",
        "**Expected answer should look like (example):**\n",
        "```\n",
        "True/False\n",
        "```"
      ]
    },
    {
      "cell_type": "code",
      "execution_count": null,
      "id": "yrtoIoESfyVe",
      "metadata": {
        "id": "yrtoIoESfyVe"
      },
      "outputs": [],
      "source": [
        "# write your code here"
      ]
    },
    {
      "cell_type": "markdown",
      "id": "-LNfyhfEfyVe",
      "metadata": {
        "id": "-LNfyhfEfyVe"
      },
      "source": [
        "### Tuples Q9\n",
        "\n",
        "**Problem:** Convert a list to a tuple.\n",
        "\n",
        "**Expected answer should look like (example):**\n",
        "```\n",
        "tuple(list)\n",
        "```"
      ]
    },
    {
      "cell_type": "code",
      "execution_count": null,
      "id": "qVjr5RJFfyVe",
      "metadata": {
        "id": "qVjr5RJFfyVe"
      },
      "outputs": [],
      "source": [
        "# write your code here"
      ]
    },
    {
      "cell_type": "markdown",
      "id": "2z6vK3lcfyVe",
      "metadata": {
        "id": "2z6vK3lcfyVe"
      },
      "source": [
        "### Tuples Q10\n",
        "\n",
        "**Problem:** Create a tuple of integers and find its sum.\n",
        "\n",
        "**Expected answer should look like (example):**\n",
        "```\n",
        "sum_value\n",
        "```"
      ]
    },
    {
      "cell_type": "code",
      "execution_count": null,
      "id": "2wvATIXwfyVe",
      "metadata": {
        "id": "2wvATIXwfyVe"
      },
      "outputs": [],
      "source": [
        "# write your code here"
      ]
    },
    {
      "cell_type": "markdown",
      "id": "AL5_V1DRfyVe",
      "metadata": {
        "id": "AL5_V1DRfyVe"
      },
      "source": [
        "### Tuples Q11\n",
        "\n",
        "**Problem:** Create a tuple using the `tuple()` constructor.\n",
        "\n",
        "**Expected answer should look like (example):**\n",
        "```\n",
        "tuple_from_iterable\n",
        "```"
      ]
    },
    {
      "cell_type": "code",
      "execution_count": null,
      "id": "J3H2rnqifyVf",
      "metadata": {
        "id": "J3H2rnqifyVf"
      },
      "outputs": [],
      "source": [
        "# write your code here"
      ]
    },
    {
      "cell_type": "markdown",
      "id": "UZHJ8sV2fyVf",
      "metadata": {
        "id": "UZHJ8sV2fyVf"
      },
      "source": [
        "### Tuples Q12\n",
        "\n",
        "**Problem:** Use a `for` loop to iterate through a tuple.\n",
        "\n",
        "**Expected answer should look like (example):**\n",
        "```\n",
        "elements printed/processed\n",
        "```"
      ]
    },
    {
      "cell_type": "code",
      "execution_count": null,
      "id": "hWTzzxbQfyVf",
      "metadata": {
        "id": "hWTzzxbQfyVf"
      },
      "outputs": [],
      "source": [
        "# write your code here"
      ]
    },
    {
      "cell_type": "markdown",
      "id": "DrMe5TzIfyVf",
      "metadata": {
        "id": "DrMe5TzIfyVf"
      },
      "source": [
        "### Tuples Q13\n",
        "\n",
        "**Problem:** Try modifying a tuple element and handle the error.\n",
        "\n",
        "**Expected answer should look like (example):**\n",
        "```\n",
        "TypeError handled\n",
        "```"
      ]
    },
    {
      "cell_type": "code",
      "execution_count": null,
      "id": "lKiryIUUfyVf",
      "metadata": {
        "id": "lKiryIUUfyVf"
      },
      "outputs": [],
      "source": [
        "# write your code here"
      ]
    },
    {
      "cell_type": "markdown",
      "id": "YhvKphyXfyVf",
      "metadata": {
        "id": "YhvKphyXfyVf"
      },
      "source": [
        "### Tuples Q14\n",
        "\n",
        "**Problem:** Unpack a tuple into individual variables.\n",
        "\n",
        "**Expected answer should look like (example):**\n",
        "```\n",
        "a b c ... assigned\n",
        "```"
      ]
    },
    {
      "cell_type": "code",
      "execution_count": null,
      "id": "OWtwQmw3fyVf",
      "metadata": {
        "id": "OWtwQmw3fyVf"
      },
      "outputs": [],
      "source": [
        "# write your code here"
      ]
    },
    {
      "cell_type": "markdown",
      "id": "MkF0atcFfyVf",
      "metadata": {
        "id": "MkF0atcFfyVf"
      },
      "source": [
        "### Tuples Q15\n",
        "\n",
        "**Problem:** Use a tuple inside a dictionary as a key.\n",
        "\n",
        "**Expected answer should look like (example):**\n",
        "```\n",
        "{(1,2): 'value'}\n",
        "```"
      ]
    },
    {
      "cell_type": "code",
      "execution_count": null,
      "id": "6C4iwP6ZfyVf",
      "metadata": {
        "id": "6C4iwP6ZfyVf"
      },
      "outputs": [],
      "source": [
        "# write your code here"
      ]
    },
    {
      "cell_type": "markdown",
      "id": "oqBDYfK6fyVf",
      "metadata": {
        "id": "oqBDYfK6fyVf"
      },
      "source": [
        "### Tuples Q16\n",
        "\n",
        "**Problem:** Find the length of a tuple using `len()`.\n",
        "\n",
        "**Expected answer should look like (example):**\n",
        "```\n",
        "length_value\n",
        "```"
      ]
    },
    {
      "cell_type": "code",
      "execution_count": null,
      "id": "fcp9Leg2fyVf",
      "metadata": {
        "id": "fcp9Leg2fyVf"
      },
      "outputs": [],
      "source": [
        "# write your code here"
      ]
    },
    {
      "cell_type": "markdown",
      "id": "azW0Z5FRfyVf",
      "metadata": {
        "id": "azW0Z5FRfyVf"
      },
      "source": [
        "### Tuples Q17\n",
        "\n",
        "**Problem:** Compare two tuples using relational operators.\n",
        "\n",
        "**Expected answer should look like (example):**\n",
        "```\n",
        "True/False based on lexicographic\n",
        "```"
      ]
    },
    {
      "cell_type": "code",
      "execution_count": null,
      "id": "DxFDZ_FPfyVg",
      "metadata": {
        "id": "DxFDZ_FPfyVg"
      },
      "outputs": [],
      "source": [
        "# write your code here"
      ]
    },
    {
      "cell_type": "markdown",
      "id": "vyvlq4bWfyVg",
      "metadata": {
        "id": "vyvlq4bWfyVg"
      },
      "source": [
        "### Tuples Q18\n",
        "\n",
        "**Problem:** Use `max()` and `min()` with a tuple.\n",
        "\n",
        "**Expected answer should look like (example):**\n",
        "```\n",
        "max_value, min_value\n",
        "```"
      ]
    },
    {
      "cell_type": "code",
      "execution_count": null,
      "id": "62KgdnSAfyVg",
      "metadata": {
        "id": "62KgdnSAfyVg"
      },
      "outputs": [],
      "source": [
        "# write your code here"
      ]
    },
    {
      "cell_type": "markdown",
      "id": "HEENKlfkfyVg",
      "metadata": {
        "id": "HEENKlfkfyVg"
      },
      "source": [
        "### Tuples Q19\n",
        "\n",
        "**Problem:** Use a tuple inside another tuple and access nested values.\n",
        "\n",
        "**Expected answer should look like (example):**\n",
        "```\n",
        "nested_value\n",
        "```"
      ]
    },
    {
      "cell_type": "code",
      "execution_count": null,
      "id": "URl8HuYFfyVg",
      "metadata": {
        "id": "URl8HuYFfyVg"
      },
      "outputs": [],
      "source": [
        "# write your code here"
      ]
    },
    {
      "cell_type": "markdown",
      "id": "UzcLW_RPfyVg",
      "metadata": {
        "id": "UzcLW_RPfyVg"
      },
      "source": [
        "### Tuples Q20\n",
        "\n",
        "**Problem:** Check the memory size of a tuple versus a list using `sys.getsizeof()`.\n",
        "\n",
        "**Expected answer should look like (example):**\n",
        "```\n",
        "e.g., tuple_size < list_size (often)\n",
        "```"
      ]
    },
    {
      "cell_type": "code",
      "execution_count": null,
      "id": "3CBhEviofyVg",
      "metadata": {
        "id": "3CBhEviofyVg"
      },
      "outputs": [],
      "source": [
        "# write your code here"
      ]
    },
    {
      "cell_type": "markdown",
      "id": "fd4yFydZfyVg",
      "metadata": {
        "id": "fd4yFydZfyVg"
      },
      "source": [
        "### Sets Q1\n",
        "\n",
        "**Problem:** Create a set with integers from 10 to 15.\n",
        "\n",
        "**Expected answer should look like (example):**\n",
        "```\n",
        "{10, 11, 12, 13, 14, 15} (order may vary)\n",
        "```"
      ]
    },
    {
      "cell_type": "code",
      "execution_count": 1,
      "id": "5qqGXfs0fyVg",
      "metadata": {
        "colab": {
          "base_uri": "https://localhost:8080/"
        },
        "id": "5qqGXfs0fyVg",
        "outputId": "2598e7c6-f0db-481a-e6ee-5d23b2801e08"
      },
      "outputs": [
        {
          "name": "stdout",
          "output_type": "stream",
          "text": [
            "{10, 11, 12, 13, 14, 15}\n"
          ]
        }
      ],
      "source": [
        "a={ 10,11,12,13,14,15}\n",
        "print(a)"
      ]
    },
    {
      "cell_type": "markdown",
      "id": "0iSowp2CfyVg",
      "metadata": {
        "id": "0iSowp2CfyVg"
      },
      "source": [
        "### Sets Q2\n",
        "\n",
        "**Problem:** Add multiple elements to a set using `update()`.\n",
        "\n",
        "**Expected answer should look like (example):**\n",
        "```\n",
        "{...includes new elements...}\n",
        "```"
      ]
    },
    {
      "cell_type": "code",
      "execution_count": 2,
      "id": "Z-upfIXtfyVg",
      "metadata": {
        "colab": {
          "base_uri": "https://localhost:8080/"
        },
        "id": "Z-upfIXtfyVg",
        "outputId": "8c9d8fdf-e2b4-4ed0-bbe8-0cdc3bab50cb"
      },
      "outputs": [
        {
          "name": "stdout",
          "output_type": "stream",
          "text": [
            "{'hondai', 'toyota', 'tata'}\n",
            "{'hondai', 'ford', 'toyota', 'tata', 'kia'}\n"
          ]
        }
      ],
      "source": [
        "brand={\"tata\",\"toyota\",\"hondai\",}\n",
        "print(brand)\n",
        "brand.update([\"ford\",\"kia\"])\n",
        "print(brand)"
      ]
    },
    {
      "cell_type": "markdown",
      "id": "zAaYvSjvfyVg",
      "metadata": {
        "id": "zAaYvSjvfyVg"
      },
      "source": [
        "### Sets Q3\n",
        "\n",
        "**Problem:** Check if a set is a subset of another set.\n",
        "\n",
        "**Expected answer should look like (example):**\n",
        "```\n",
        "True/False\n",
        "```"
      ]
    },
    {
      "cell_type": "code",
      "execution_count": 4,
      "id": "XNQuqIzUfyVg",
      "metadata": {
        "colab": {
          "base_uri": "https://localhost:8080/"
        },
        "id": "XNQuqIzUfyVg",
        "outputId": "08f0d5ff-431c-4be0-9ee9-d7dec3804959"
      },
      "outputs": [
        {
          "name": "stdout",
          "output_type": "stream",
          "text": [
            "True\n",
            "False\n"
          ]
        }
      ],
      "source": [
        "a={1,2,3,}\n",
        "b={1,2,3,4,5}\n",
        "c={2,4,6}\n",
        "print(a.issubset(b))\n",
        "print(c.issubset(b))"
      ]
    },
    {
      "cell_type": "markdown",
      "id": "c0GUHapUfyVg",
      "metadata": {
        "id": "c0GUHapUfyVg"
      },
      "source": [
        "### Sets Q4\n",
        "\n",
        "**Problem:** Check if a set is a superset of another set.\n",
        "\n",
        "**Expected answer should look like (example):**\n",
        "```\n",
        "True/False\n",
        "```"
      ]
    },
    {
      "cell_type": "code",
      "execution_count": 5,
      "id": "OUKyM0_ufyVg",
      "metadata": {
        "colab": {
          "base_uri": "https://localhost:8080/"
        },
        "id": "OUKyM0_ufyVg",
        "outputId": "36848f08-33f3-4514-a874-800ec22757af"
      },
      "outputs": [
        {
          "name": "stdout",
          "output_type": "stream",
          "text": [
            "True\n",
            "False\n"
          ]
        }
      ],
      "source": [
        "a={1,2,3,4}\n",
        "b={1,2}\n",
        "c={2,4,55}\n",
        "print(a.issuperset(b))\n",
        "print(b.issuperset(a))"
      ]
    },
    {
      "cell_type": "markdown",
      "id": "53FrXj6NfyVh",
      "metadata": {
        "id": "53FrXj6NfyVh"
      },
      "source": [
        "### Sets Q5\n",
        "\n",
        "**Problem:** Find the difference between two sets.\n",
        "\n",
        "**Expected answer should look like (example):**\n",
        "```\n",
        "A - B set\n",
        "```"
      ]
    },
    {
      "cell_type": "code",
      "execution_count": 6,
      "id": "SbID0wZ3fyVh",
      "metadata": {
        "colab": {
          "base_uri": "https://localhost:8080/"
        },
        "id": "SbID0wZ3fyVh",
        "outputId": "1ae839c7-2690-4175-a1fc-cbdf5553a250"
      },
      "outputs": [
        {
          "name": "stdout",
          "output_type": "stream",
          "text": [
            "{3, 4}\n",
            "set()\n"
          ]
        }
      ],
      "source": [
        "a={1,2,3,4}\n",
        "b={1,2}\n",
        "print(a.difference(b))\n",
        "print(b.difference(a))"
      ]
    },
    {
      "cell_type": "markdown",
      "id": "iC-Pvc3TfyVh",
      "metadata": {
        "id": "iC-Pvc3TfyVh"
      },
      "source": [
        "### Sets Q6\n",
        "\n",
        "**Problem:** Create a set of multiples of 3 from 1 to 15.\n",
        "\n",
        "**Expected answer should look like (example):**\n",
        "```\n",
        "{3, 6, 9, 12, 15}\n",
        "```"
      ]
    },
    {
      "cell_type": "code",
      "execution_count": 7,
      "id": "mgIRy9RvfyVh",
      "metadata": {
        "colab": {
          "base_uri": "https://localhost:8080/"
        },
        "id": "mgIRy9RvfyVh",
        "outputId": "e9e06a72-8191-4be9-fa38-fc1485295b9e"
      },
      "outputs": [
        {
          "name": "stdout",
          "output_type": "stream",
          "text": [
            "{3, 6, 9, 12, 15}\n"
          ]
        }
      ],
      "source": [
        "a={i for i in range(1,16) if i%3==0}\n",
        "print(a)"
      ]
    },
    {
      "cell_type": "markdown",
      "id": "SwBOILWZfyVh",
      "metadata": {
        "id": "SwBOILWZfyVh"
      },
      "source": [
        "### Sets Q7\n",
        "\n",
        "**Problem:** Remove an element from a set using `discard()`.\n",
        "\n",
        "**Expected answer should look like (example):**\n",
        "```\n",
        "set without that element (no error if missing)\n",
        "```"
      ]
    },
    {
      "cell_type": "code",
      "execution_count": 8,
      "id": "vHtkwEOgfyVh",
      "metadata": {
        "colab": {
          "base_uri": "https://localhost:8080/"
        },
        "id": "vHtkwEOgfyVh",
        "outputId": "265f36bb-3427-4ff3-c187-8131c4c4ca5e"
      },
      "outputs": [
        {
          "name": "stdout",
          "output_type": "stream",
          "text": [
            "{50, 20, 40, 10, 60}\n"
          ]
        }
      ],
      "source": [
        "a={10,20,30,40,50,60}\n",
        "a.discard(30)\n",
        "print(a)"
      ]
    },
    {
      "cell_type": "markdown",
      "id": "0bIs5h7KfyVh",
      "metadata": {
        "id": "0bIs5h7KfyVh"
      },
      "source": [
        "### Sets Q8\n",
        "\n",
        "**Problem:** Check if a set is empty.\n",
        "\n",
        "**Expected answer should look like (example):**\n",
        "```\n",
        "True/False\n",
        "```"
      ]
    },
    {
      "cell_type": "code",
      "execution_count": 9,
      "id": "YGdKJ_AlhMF4",
      "metadata": {
        "colab": {
          "base_uri": "https://localhost:8080/"
        },
        "id": "YGdKJ_AlhMF4",
        "outputId": "bc73f5ac-201f-47c3-bfed-28df10b16b47"
      },
      "outputs": [
        {
          "name": "stdout",
          "output_type": "stream",
          "text": [
            "empty\n"
          ]
        }
      ],
      "source": [
        "a=set()\n",
        "print(\"empty\" if not a else\"not empty\")"
      ]
    },
    {
      "cell_type": "code",
      "execution_count": null,
      "id": "ilBpbKVIfyVh",
      "metadata": {
        "id": "ilBpbKVIfyVh"
      },
      "outputs": [],
      "source": []
    },
    {
      "cell_type": "markdown",
      "id": "Ob4hYWQGfyVh",
      "metadata": {
        "id": "Ob4hYWQGfyVh"
      },
      "source": [
        "### Sets Q9\n",
        "\n",
        "**Problem:** Find the maximum element in a set.\n",
        "\n",
        "**Expected answer should look like (example):**\n",
        "```\n",
        "max_value\n",
        "```"
      ]
    },
    {
      "cell_type": "code",
      "execution_count": 10,
      "id": "b4bHmMIyfyVh",
      "metadata": {
        "colab": {
          "base_uri": "https://localhost:8080/"
        },
        "id": "b4bHmMIyfyVh",
        "outputId": "14be0320-86cd-420f-f8f4-ce1fec48431c"
      },
      "outputs": [
        {
          "name": "stdout",
          "output_type": "stream",
          "text": [
            "50\n"
          ]
        }
      ],
      "source": [
        "a={10,20,30,40,50}\n",
        "max_value=max(a)\n",
        "print(max_value)"
      ]
    },
    {
      "cell_type": "markdown",
      "id": "RHn1Kk-ufyVh",
      "metadata": {
        "id": "RHn1Kk-ufyVh"
      },
      "source": [
        "### Sets Q10\n",
        "\n",
        "**Problem:** Find the minimum element in a set.\n",
        "\n",
        "**Expected answer should look like (example):**\n",
        "```\n",
        "min_value\n",
        "```"
      ]
    },
    {
      "cell_type": "code",
      "execution_count": 11,
      "id": "ePKcbSaafyVh",
      "metadata": {
        "colab": {
          "base_uri": "https://localhost:8080/"
        },
        "id": "ePKcbSaafyVh",
        "outputId": "e860a98a-7e27-4fb4-b65c-1633fe3834f9"
      },
      "outputs": [
        {
          "name": "stdout",
          "output_type": "stream",
          "text": [
            "10\n"
          ]
        }
      ],
      "source": [
        "a={10,20,30,40,50}\n",
        "min_value=min(a)\n",
        "print(min_value)"
      ]
    },
    {
      "cell_type": "markdown",
      "id": "AzYVe4E2fyVh",
      "metadata": {
        "id": "AzYVe4E2fyVh"
      },
      "source": [
        "### Sets Q11\n",
        "\n",
        "**Problem:** Create a frozen set with elements 'a', 'b', and 'c'.\n",
        "\n",
        "**Expected answer should look like (example):**\n",
        "```\n",
        "frozenset({'a','b','c'})\n",
        "```"
      ]
    },
    {
      "cell_type": "code",
      "execution_count": 12,
      "id": "AhMpp5WdfyVh",
      "metadata": {
        "colab": {
          "base_uri": "https://localhost:8080/"
        },
        "id": "AhMpp5WdfyVh",
        "outputId": "ad39a93d-324a-4fcb-e6cd-1d07bc3d2f84"
      },
      "outputs": [
        {
          "name": "stdout",
          "output_type": "stream",
          "text": [
            "frozenset({'b', 'a', 'c'})\n"
          ]
        }
      ],
      "source": [
        "a=frozenset(['a','b','c'])\n",
        "print(a)"
      ]
    },
    {
      "cell_type": "markdown",
      "id": "b7SIy4MWfyVh",
      "metadata": {
        "id": "b7SIy4MWfyVh"
      },
      "source": [
        "### Sets Q12\n",
        "\n",
        "**Problem:** Check if a frozen set is immutable by attempting to add an element.\n",
        "\n",
        "**Expected answer should look like (example):**\n",
        "```\n",
        "AttributeError shown/handled\n",
        "```"
      ]
    },
    {
      "cell_type": "code",
      "execution_count": 13,
      "id": "kaW8KcrnfyVi",
      "metadata": {
        "id": "kaW8KcrnfyVi"
      },
      "outputs": [],
      "source": [
        "a={1,2,3,}\n",
        "try:\n",
        "  a.add(4)\n",
        "except AttributeError as e:\n",
        "  print(e)"
      ]
    },
    {
      "cell_type": "markdown",
      "id": "u4PGg21HfyVi",
      "metadata": {
        "id": "u4PGg21HfyVi"
      },
      "source": [
        "### Sets Q13\n",
        "\n",
        "**Problem:** Find the union of a frozen set with a regular set.\n",
        "\n",
        "**Expected answer should look like (example):**\n",
        "```\n",
        "combined set\n",
        "```"
      ]
    },
    {
      "cell_type": "code",
      "execution_count": 14,
      "id": "CFjOTXsAfyVi",
      "metadata": {
        "colab": {
          "base_uri": "https://localhost:8080/"
        },
        "id": "CFjOTXsAfyVi",
        "outputId": "e5096192-7aca-4c43-8428-8a6b69e3a2b5"
      },
      "outputs": [
        {
          "name": "stdout",
          "output_type": "stream",
          "text": [
            "frozenset({1, 2, 3})\n",
            "frozenset({1, 2, 3})\n"
          ]
        }
      ],
      "source": [
        "a = frozenset({1, 2})\n",
        "b = frozenset({2, 3})\n",
        "print(a.union(b))\n",
        "print(a | b)"
      ]
    },
    {
      "cell_type": "markdown",
      "id": "l1AxUrgbfyVi",
      "metadata": {
        "id": "l1AxUrgbfyVi"
      },
      "source": [
        "### Sets Q14\n",
        "\n",
        "**Problem:** Convert a list with duplicate elements into a set to remove duplicates.\n",
        "\n",
        "**Expected answer should look like (example):**\n",
        "```\n",
        "{unique_elements}\n",
        "```"
      ]
    },
    {
      "cell_type": "code",
      "execution_count": 5,
      "id": "uGYqDg-EfyVi",
      "metadata": {
        "colab": {
          "base_uri": "https://localhost:8080/"
        },
        "id": "uGYqDg-EfyVi",
        "outputId": "962dcc9e-5b49-4187-fe9d-e83bb67b7f11"
      },
      "outputs": [
        {
          "name": "stdout",
          "output_type": "stream",
          "text": [
            "[1, 2, 3, 5]\n"
          ]
        }
      ],
      "source": [
        "a={1,2,3,5,2,}\n",
        "b=list(a)\n",
        "print(b)"
      ]
    },
    {
      "cell_type": "code",
      "execution_count": null,
      "id": "aLqYdMmQoQGK",
      "metadata": {
        "id": "aLqYdMmQoQGK"
      },
      "outputs": [],
      "source": []
    },
    {
      "cell_type": "markdown",
      "id": "LNVwzH2dfyVi",
      "metadata": {
        "id": "LNVwzH2dfyVi"
      },
      "source": [
        "### Sets Q15\n",
        "\n",
        "**Problem:** Create a set comprehension to generate squares of numbers from 1 to 5.\n",
        "\n",
        "**Expected answer should look like (example):**\n",
        "```\n",
        "{1,4,9,16,25}\n",
        "```"
      ]
    },
    {
      "cell_type": "code",
      "execution_count": null,
      "id": "ZL075CBkfyVi",
      "metadata": {
        "id": "ZL075CBkfyVi"
      },
      "outputs": [],
      "source": [
        "square={x**2 for x in range(1,6)}\n",
        "print(square)"
      ]
    },
    {
      "cell_type": "markdown",
      "id": "D0DqSpwUfyVi",
      "metadata": {
        "id": "D0DqSpwUfyVi"
      },
      "source": [
        "### Sets Q16\n",
        "\n",
        "**Problem:** Use the `intersection()` method on two sets.\n",
        "\n",
        "**Expected answer should look like (example):**\n",
        "```\n",
        "A ∩ B\n",
        "```"
      ]
    },
    {
      "cell_type": "code",
      "execution_count": 16,
      "id": "CSbQd9H8fyVi",
      "metadata": {
        "colab": {
          "base_uri": "https://localhost:8080/"
        },
        "id": "CSbQd9H8fyVi",
        "outputId": "5764d548-8812-4b72-dd94-6f81f3f73fe7"
      },
      "outputs": [
        {
          "name": "stdout",
          "output_type": "stream",
          "text": [
            "frozenset({3, 4})\n",
            "frozenset({3, 4})\n"
          ]
        }
      ],
      "source": [
        "a = frozenset({1, 2, 3, 4})\n",
        "b = frozenset({3, 4, 5})\n",
        "print(a.intersection(b))\n",
        "print(a & b)"
      ]
    },
    {
      "cell_type": "markdown",
      "id": "q2Zf6kwEfyVi",
      "metadata": {
        "id": "q2Zf6kwEfyVi"
      },
      "source": [
        "### Sets Q17\n",
        "\n",
        "**Problem:** Use `symmetric_difference()` between two sets.\n",
        "\n",
        "**Expected answer should look like (example):**\n",
        "```\n",
        "(A Δ B) set\n",
        "```"
      ]
    },
    {
      "cell_type": "code",
      "execution_count": 17,
      "id": "JJOjcx6MfyVi",
      "metadata": {
        "colab": {
          "base_uri": "https://localhost:8080/"
        },
        "id": "JJOjcx6MfyVi",
        "outputId": "797e26f7-73cc-4723-8a51-40515bd8c615"
      },
      "outputs": [
        {
          "name": "stdout",
          "output_type": "stream",
          "text": [
            "frozenset({1, 2, 4, 5})\n",
            "frozenset({1, 2, 4, 5})\n"
          ]
        }
      ],
      "source": [
        "a = frozenset({1, 2, 3})\n",
        "b = frozenset({3, 4, 5})\n",
        "print(a.symmetric_difference(b))\n",
        "print(a ^ b)"
      ]
    },
    {
      "cell_type": "markdown",
      "id": "iyPjq03kfyVj",
      "metadata": {
        "id": "iyPjq03kfyVj"
      },
      "source": [
        "### Sets Q18\n",
        "\n",
        "**Problem:** Iterate over elements of a set using a loop.\n",
        "\n",
        "**Expected answer should look like (example):**\n",
        "```\n",
        "elements printed (order arbitrary)\n",
        "```"
      ]
    },
    {
      "cell_type": "code",
      "execution_count": 4,
      "id": "kchujqXKfyVj",
      "metadata": {
        "colab": {
          "base_uri": "https://localhost:8080/"
        },
        "id": "kchujqXKfyVj",
        "outputId": "cd0b40bd-278f-4e6c-8420-a0a52fdc4665"
      },
      "outputs": [],
      "source": [
        "a={10,20,30,40,50}\n",
        "if a in a:\n",
        "    print(a)"
      ]
    },
    {
      "cell_type": "markdown",
      "id": "hxzkafUefyVj",
      "metadata": {
        "id": "hxzkafUefyVj"
      },
      "source": [
        "### Sets Q19\n",
        "\n",
        "**Problem:** Count elements in a set using `len()`.\n",
        "\n",
        "**Expected answer should look like (example):**\n",
        "```\n",
        "integer_count\n",
        "```"
      ]
    },
    {
      "cell_type": "code",
      "execution_count": 19,
      "id": "M5lUlSKUfyVj",
      "metadata": {
        "colab": {
          "base_uri": "https://localhost:8080/"
        },
        "id": "M5lUlSKUfyVj",
        "outputId": "e13aff9d-74a4-43d9-9af0-08f504e2687c"
      },
      "outputs": [
        {
          "name": "stdout",
          "output_type": "stream",
          "text": [
            "3\n",
            "{'tata', 'hondai', 'toyota'}\n"
          ]
        }
      ],
      "source": [
        "car={\"tata\",\"toyota\",\"hondai\"}\n",
        "count=len(car)\n",
        "print(count)\n",
        "print(car)"
      ]
    },
    {
      "cell_type": "markdown",
      "id": "60brTOPlfyVj",
      "metadata": {
        "id": "60brTOPlfyVj"
      },
      "source": [
        "### Sets Q20\n",
        "\n",
        "**Problem:** Copy a set using `copy()` and verify it is separate.\n",
        "\n",
        "**Expected answer should look like (example):**\n",
        "```\n",
        "True when A is B is False; mutation doesn't affect copy\n",
        "```"
      ]
    },
    {
      "cell_type": "code",
      "execution_count": 20,
      "id": "_9s80IdsfyVj",
      "metadata": {
        "colab": {
          "base_uri": "https://localhost:8080/"
        },
        "id": "_9s80IdsfyVj",
        "outputId": "139dd4e9-fedd-407f-9c49-747146c1f50c"
      },
      "outputs": [
        {
          "name": "stdout",
          "output_type": "stream",
          "text": [
            "{40, 10, 20, 30}\n",
            "{40, 10, 20, 30}\n",
            "{40, 10, 50, 20, 30}\n",
            "{40, 10, 20, 30}\n"
          ]
        }
      ],
      "source": [
        "a={10,20,30,40}\n",
        "print(a)\n",
        "b=a.copy()\n",
        "print(b)\n",
        "b.add(50)\n",
        "print(b)\n",
        "print(a)"
      ]
    },
    {
      "cell_type": "markdown",
      "id": "SpYizfRbfyVl",
      "metadata": {
        "id": "SpYizfRbfyVl"
      },
      "source": [
        "## Submission Note\n",
        "\n",
        "Dear student, kindly save this file on your computer and fill the assignment form that is there in your WhatsApp group to submit this assignment."
      ]
    }
  ],
  "metadata": {
    "colab": {
      "provenance": []
    },
    "kernelspec": {
      "display_name": "Python 3",
      "language": "python",
      "name": "python3"
    },
    "language_info": {
      "codemirror_mode": {
        "name": "ipython",
        "version": 3
      },
      "file_extension": ".py",
      "mimetype": "text/x-python",
      "name": "python",
      "nbconvert_exporter": "python",
      "pygments_lexer": "ipython3",
      "version": "3.13.5"
    }
  },
  "nbformat": 4,
  "nbformat_minor": 5
}
